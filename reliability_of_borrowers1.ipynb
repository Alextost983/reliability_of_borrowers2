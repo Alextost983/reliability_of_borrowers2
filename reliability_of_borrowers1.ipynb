{
 "cells": [
  {
   "attachments": {},
   "cell_type": "markdown",
   "id": "03592c9b",
   "metadata": {
    "deletable": false,
    "editable": false,
    "id": "c81daeeb"
   },
   "source": [
    "# Исследование надежности заемщиков\n"
   ]
  },
  {
   "attachments": {},
   "cell_type": "markdown",
   "id": "84207456",
   "metadata": {
    "deletable": false,
    "editable": false,
    "id": "744d7639"
   },
   "source": [
    "## Откроем таблицу и изучите общую информацию о данных"
   ]
  },
  {
   "attachments": {},
   "cell_type": "markdown",
   "id": "5e8678ba",
   "metadata": {
    "deletable": false,
    "editable": false,
    "id": "e7a14c31"
   },
   "source": [
    "**Задание 1. Импортируем библиотеку pandas. Считаем данные из csv-файла в датафрейм и сохраним в переменную `data`. Путь к файлу:**\n",
    "\n",
    "`/datasets/data.csv`"
   ]
  },
  {
   "cell_type": "code",
   "execution_count": 1,
   "id": "cf47a8a0",
   "metadata": {
    "deletable": false,
    "id": "7bcf75c9"
   },
   "outputs": [],
   "source": [
    "import pandas as pd\n",
    "\n",
    "try:\n",
    "    data = pd.read_csv('/datasets/data.csv')\n",
    "except:\n",
    "    data = pd.read_csv('https://code.s3.yandex.net/datasets/data.csv')\n"
   ]
  },
  {
   "attachments": {},
   "cell_type": "markdown",
   "id": "80aace84",
   "metadata": {
    "deletable": false,
    "editable": false,
    "id": "b8038fe3"
   },
   "source": [
    "**Задание 2. Выведем первые 20 строчек датафрейма `data` на экран.**"
   ]
  },
  {
   "cell_type": "code",
   "execution_count": 2,
   "id": "db62048f",
   "metadata": {
    "deletable": false,
    "id": "2a7cab99",
    "outputId": "1a8f3ef2-d323-4ec2-ddf7-89670b5944c4"
   },
   "outputs": [
    {
     "data": {
      "text/html": [
       "<div>\n",
       "<style scoped>\n",
       "    .dataframe tbody tr th:only-of-type {\n",
       "        vertical-align: middle;\n",
       "    }\n",
       "\n",
       "    .dataframe tbody tr th {\n",
       "        vertical-align: top;\n",
       "    }\n",
       "\n",
       "    .dataframe thead th {\n",
       "        text-align: right;\n",
       "    }\n",
       "</style>\n",
       "<table border=\"1\" class=\"dataframe\">\n",
       "  <thead>\n",
       "    <tr style=\"text-align: right;\">\n",
       "      <th></th>\n",
       "      <th>children</th>\n",
       "      <th>days_employed</th>\n",
       "      <th>dob_years</th>\n",
       "      <th>education</th>\n",
       "      <th>education_id</th>\n",
       "      <th>family_status</th>\n",
       "      <th>family_status_id</th>\n",
       "      <th>gender</th>\n",
       "      <th>income_type</th>\n",
       "      <th>debt</th>\n",
       "      <th>total_income</th>\n",
       "      <th>purpose</th>\n",
       "    </tr>\n",
       "  </thead>\n",
       "  <tbody>\n",
       "    <tr>\n",
       "      <th>0</th>\n",
       "      <td>1</td>\n",
       "      <td>-8437.673028</td>\n",
       "      <td>42</td>\n",
       "      <td>высшее</td>\n",
       "      <td>0</td>\n",
       "      <td>женат / замужем</td>\n",
       "      <td>0</td>\n",
       "      <td>F</td>\n",
       "      <td>сотрудник</td>\n",
       "      <td>0</td>\n",
       "      <td>253875.639453</td>\n",
       "      <td>покупка жилья</td>\n",
       "    </tr>\n",
       "    <tr>\n",
       "      <th>1</th>\n",
       "      <td>1</td>\n",
       "      <td>-4024.803754</td>\n",
       "      <td>36</td>\n",
       "      <td>среднее</td>\n",
       "      <td>1</td>\n",
       "      <td>женат / замужем</td>\n",
       "      <td>0</td>\n",
       "      <td>F</td>\n",
       "      <td>сотрудник</td>\n",
       "      <td>0</td>\n",
       "      <td>112080.014102</td>\n",
       "      <td>приобретение автомобиля</td>\n",
       "    </tr>\n",
       "    <tr>\n",
       "      <th>2</th>\n",
       "      <td>0</td>\n",
       "      <td>-5623.422610</td>\n",
       "      <td>33</td>\n",
       "      <td>Среднее</td>\n",
       "      <td>1</td>\n",
       "      <td>женат / замужем</td>\n",
       "      <td>0</td>\n",
       "      <td>M</td>\n",
       "      <td>сотрудник</td>\n",
       "      <td>0</td>\n",
       "      <td>145885.952297</td>\n",
       "      <td>покупка жилья</td>\n",
       "    </tr>\n",
       "    <tr>\n",
       "      <th>3</th>\n",
       "      <td>3</td>\n",
       "      <td>-4124.747207</td>\n",
       "      <td>32</td>\n",
       "      <td>среднее</td>\n",
       "      <td>1</td>\n",
       "      <td>женат / замужем</td>\n",
       "      <td>0</td>\n",
       "      <td>M</td>\n",
       "      <td>сотрудник</td>\n",
       "      <td>0</td>\n",
       "      <td>267628.550329</td>\n",
       "      <td>дополнительное образование</td>\n",
       "    </tr>\n",
       "    <tr>\n",
       "      <th>4</th>\n",
       "      <td>0</td>\n",
       "      <td>340266.072047</td>\n",
       "      <td>53</td>\n",
       "      <td>среднее</td>\n",
       "      <td>1</td>\n",
       "      <td>гражданский брак</td>\n",
       "      <td>1</td>\n",
       "      <td>F</td>\n",
       "      <td>пенсионер</td>\n",
       "      <td>0</td>\n",
       "      <td>158616.077870</td>\n",
       "      <td>сыграть свадьбу</td>\n",
       "    </tr>\n",
       "    <tr>\n",
       "      <th>5</th>\n",
       "      <td>0</td>\n",
       "      <td>-926.185831</td>\n",
       "      <td>27</td>\n",
       "      <td>высшее</td>\n",
       "      <td>0</td>\n",
       "      <td>гражданский брак</td>\n",
       "      <td>1</td>\n",
       "      <td>M</td>\n",
       "      <td>компаньон</td>\n",
       "      <td>0</td>\n",
       "      <td>255763.565419</td>\n",
       "      <td>покупка жилья</td>\n",
       "    </tr>\n",
       "    <tr>\n",
       "      <th>6</th>\n",
       "      <td>0</td>\n",
       "      <td>-2879.202052</td>\n",
       "      <td>43</td>\n",
       "      <td>высшее</td>\n",
       "      <td>0</td>\n",
       "      <td>женат / замужем</td>\n",
       "      <td>0</td>\n",
       "      <td>F</td>\n",
       "      <td>компаньон</td>\n",
       "      <td>0</td>\n",
       "      <td>240525.971920</td>\n",
       "      <td>операции с жильем</td>\n",
       "    </tr>\n",
       "    <tr>\n",
       "      <th>7</th>\n",
       "      <td>0</td>\n",
       "      <td>-152.779569</td>\n",
       "      <td>50</td>\n",
       "      <td>СРЕДНЕЕ</td>\n",
       "      <td>1</td>\n",
       "      <td>женат / замужем</td>\n",
       "      <td>0</td>\n",
       "      <td>M</td>\n",
       "      <td>сотрудник</td>\n",
       "      <td>0</td>\n",
       "      <td>135823.934197</td>\n",
       "      <td>образование</td>\n",
       "    </tr>\n",
       "    <tr>\n",
       "      <th>8</th>\n",
       "      <td>2</td>\n",
       "      <td>-6929.865299</td>\n",
       "      <td>35</td>\n",
       "      <td>ВЫСШЕЕ</td>\n",
       "      <td>0</td>\n",
       "      <td>гражданский брак</td>\n",
       "      <td>1</td>\n",
       "      <td>F</td>\n",
       "      <td>сотрудник</td>\n",
       "      <td>0</td>\n",
       "      <td>95856.832424</td>\n",
       "      <td>на проведение свадьбы</td>\n",
       "    </tr>\n",
       "    <tr>\n",
       "      <th>9</th>\n",
       "      <td>0</td>\n",
       "      <td>-2188.756445</td>\n",
       "      <td>41</td>\n",
       "      <td>среднее</td>\n",
       "      <td>1</td>\n",
       "      <td>женат / замужем</td>\n",
       "      <td>0</td>\n",
       "      <td>M</td>\n",
       "      <td>сотрудник</td>\n",
       "      <td>0</td>\n",
       "      <td>144425.938277</td>\n",
       "      <td>покупка жилья для семьи</td>\n",
       "    </tr>\n",
       "    <tr>\n",
       "      <th>10</th>\n",
       "      <td>2</td>\n",
       "      <td>-4171.483647</td>\n",
       "      <td>36</td>\n",
       "      <td>высшее</td>\n",
       "      <td>0</td>\n",
       "      <td>женат / замужем</td>\n",
       "      <td>0</td>\n",
       "      <td>M</td>\n",
       "      <td>компаньон</td>\n",
       "      <td>0</td>\n",
       "      <td>113943.491460</td>\n",
       "      <td>покупка недвижимости</td>\n",
       "    </tr>\n",
       "    <tr>\n",
       "      <th>11</th>\n",
       "      <td>0</td>\n",
       "      <td>-792.701887</td>\n",
       "      <td>40</td>\n",
       "      <td>среднее</td>\n",
       "      <td>1</td>\n",
       "      <td>женат / замужем</td>\n",
       "      <td>0</td>\n",
       "      <td>F</td>\n",
       "      <td>сотрудник</td>\n",
       "      <td>0</td>\n",
       "      <td>77069.234271</td>\n",
       "      <td>покупка коммерческой недвижимости</td>\n",
       "    </tr>\n",
       "    <tr>\n",
       "      <th>12</th>\n",
       "      <td>0</td>\n",
       "      <td>NaN</td>\n",
       "      <td>65</td>\n",
       "      <td>среднее</td>\n",
       "      <td>1</td>\n",
       "      <td>гражданский брак</td>\n",
       "      <td>1</td>\n",
       "      <td>M</td>\n",
       "      <td>пенсионер</td>\n",
       "      <td>0</td>\n",
       "      <td>NaN</td>\n",
       "      <td>сыграть свадьбу</td>\n",
       "    </tr>\n",
       "    <tr>\n",
       "      <th>13</th>\n",
       "      <td>0</td>\n",
       "      <td>-1846.641941</td>\n",
       "      <td>54</td>\n",
       "      <td>неоконченное высшее</td>\n",
       "      <td>2</td>\n",
       "      <td>женат / замужем</td>\n",
       "      <td>0</td>\n",
       "      <td>F</td>\n",
       "      <td>сотрудник</td>\n",
       "      <td>0</td>\n",
       "      <td>130458.228857</td>\n",
       "      <td>приобретение автомобиля</td>\n",
       "    </tr>\n",
       "    <tr>\n",
       "      <th>14</th>\n",
       "      <td>0</td>\n",
       "      <td>-1844.956182</td>\n",
       "      <td>56</td>\n",
       "      <td>высшее</td>\n",
       "      <td>0</td>\n",
       "      <td>гражданский брак</td>\n",
       "      <td>1</td>\n",
       "      <td>F</td>\n",
       "      <td>компаньон</td>\n",
       "      <td>1</td>\n",
       "      <td>165127.911772</td>\n",
       "      <td>покупка жилой недвижимости</td>\n",
       "    </tr>\n",
       "    <tr>\n",
       "      <th>15</th>\n",
       "      <td>1</td>\n",
       "      <td>-972.364419</td>\n",
       "      <td>26</td>\n",
       "      <td>среднее</td>\n",
       "      <td>1</td>\n",
       "      <td>женат / замужем</td>\n",
       "      <td>0</td>\n",
       "      <td>F</td>\n",
       "      <td>сотрудник</td>\n",
       "      <td>0</td>\n",
       "      <td>116820.904450</td>\n",
       "      <td>строительство собственной недвижимости</td>\n",
       "    </tr>\n",
       "    <tr>\n",
       "      <th>16</th>\n",
       "      <td>0</td>\n",
       "      <td>-1719.934226</td>\n",
       "      <td>35</td>\n",
       "      <td>среднее</td>\n",
       "      <td>1</td>\n",
       "      <td>женат / замужем</td>\n",
       "      <td>0</td>\n",
       "      <td>F</td>\n",
       "      <td>сотрудник</td>\n",
       "      <td>0</td>\n",
       "      <td>289202.704229</td>\n",
       "      <td>недвижимость</td>\n",
       "    </tr>\n",
       "    <tr>\n",
       "      <th>17</th>\n",
       "      <td>0</td>\n",
       "      <td>-2369.999720</td>\n",
       "      <td>33</td>\n",
       "      <td>высшее</td>\n",
       "      <td>0</td>\n",
       "      <td>гражданский брак</td>\n",
       "      <td>1</td>\n",
       "      <td>M</td>\n",
       "      <td>сотрудник</td>\n",
       "      <td>0</td>\n",
       "      <td>90410.586745</td>\n",
       "      <td>строительство недвижимости</td>\n",
       "    </tr>\n",
       "    <tr>\n",
       "      <th>18</th>\n",
       "      <td>0</td>\n",
       "      <td>400281.136913</td>\n",
       "      <td>53</td>\n",
       "      <td>среднее</td>\n",
       "      <td>1</td>\n",
       "      <td>вдовец / вдова</td>\n",
       "      <td>2</td>\n",
       "      <td>F</td>\n",
       "      <td>пенсионер</td>\n",
       "      <td>0</td>\n",
       "      <td>56823.777243</td>\n",
       "      <td>на покупку подержанного автомобиля</td>\n",
       "    </tr>\n",
       "    <tr>\n",
       "      <th>19</th>\n",
       "      <td>0</td>\n",
       "      <td>-10038.818549</td>\n",
       "      <td>48</td>\n",
       "      <td>СРЕДНЕЕ</td>\n",
       "      <td>1</td>\n",
       "      <td>в разводе</td>\n",
       "      <td>3</td>\n",
       "      <td>F</td>\n",
       "      <td>сотрудник</td>\n",
       "      <td>0</td>\n",
       "      <td>242831.107982</td>\n",
       "      <td>на покупку своего автомобиля</td>\n",
       "    </tr>\n",
       "  </tbody>\n",
       "</table>\n",
       "</div>"
      ],
      "text/plain": [
       "    children  days_employed  dob_years            education  education_id  \\\n",
       "0          1   -8437.673028         42               высшее             0   \n",
       "1          1   -4024.803754         36              среднее             1   \n",
       "2          0   -5623.422610         33              Среднее             1   \n",
       "3          3   -4124.747207         32              среднее             1   \n",
       "4          0  340266.072047         53              среднее             1   \n",
       "5          0    -926.185831         27               высшее             0   \n",
       "6          0   -2879.202052         43               высшее             0   \n",
       "7          0    -152.779569         50              СРЕДНЕЕ             1   \n",
       "8          2   -6929.865299         35               ВЫСШЕЕ             0   \n",
       "9          0   -2188.756445         41              среднее             1   \n",
       "10         2   -4171.483647         36               высшее             0   \n",
       "11         0    -792.701887         40              среднее             1   \n",
       "12         0            NaN         65              среднее             1   \n",
       "13         0   -1846.641941         54  неоконченное высшее             2   \n",
       "14         0   -1844.956182         56               высшее             0   \n",
       "15         1    -972.364419         26              среднее             1   \n",
       "16         0   -1719.934226         35              среднее             1   \n",
       "17         0   -2369.999720         33               высшее             0   \n",
       "18         0  400281.136913         53              среднее             1   \n",
       "19         0  -10038.818549         48              СРЕДНЕЕ             1   \n",
       "\n",
       "       family_status  family_status_id gender income_type  debt  \\\n",
       "0    женат / замужем                 0      F   сотрудник     0   \n",
       "1    женат / замужем                 0      F   сотрудник     0   \n",
       "2    женат / замужем                 0      M   сотрудник     0   \n",
       "3    женат / замужем                 0      M   сотрудник     0   \n",
       "4   гражданский брак                 1      F   пенсионер     0   \n",
       "5   гражданский брак                 1      M   компаньон     0   \n",
       "6    женат / замужем                 0      F   компаньон     0   \n",
       "7    женат / замужем                 0      M   сотрудник     0   \n",
       "8   гражданский брак                 1      F   сотрудник     0   \n",
       "9    женат / замужем                 0      M   сотрудник     0   \n",
       "10   женат / замужем                 0      M   компаньон     0   \n",
       "11   женат / замужем                 0      F   сотрудник     0   \n",
       "12  гражданский брак                 1      M   пенсионер     0   \n",
       "13   женат / замужем                 0      F   сотрудник     0   \n",
       "14  гражданский брак                 1      F   компаньон     1   \n",
       "15   женат / замужем                 0      F   сотрудник     0   \n",
       "16   женат / замужем                 0      F   сотрудник     0   \n",
       "17  гражданский брак                 1      M   сотрудник     0   \n",
       "18    вдовец / вдова                 2      F   пенсионер     0   \n",
       "19         в разводе                 3      F   сотрудник     0   \n",
       "\n",
       "     total_income                                 purpose  \n",
       "0   253875.639453                           покупка жилья  \n",
       "1   112080.014102                 приобретение автомобиля  \n",
       "2   145885.952297                           покупка жилья  \n",
       "3   267628.550329              дополнительное образование  \n",
       "4   158616.077870                         сыграть свадьбу  \n",
       "5   255763.565419                           покупка жилья  \n",
       "6   240525.971920                       операции с жильем  \n",
       "7   135823.934197                             образование  \n",
       "8    95856.832424                   на проведение свадьбы  \n",
       "9   144425.938277                 покупка жилья для семьи  \n",
       "10  113943.491460                    покупка недвижимости  \n",
       "11   77069.234271       покупка коммерческой недвижимости  \n",
       "12            NaN                         сыграть свадьбу  \n",
       "13  130458.228857                 приобретение автомобиля  \n",
       "14  165127.911772              покупка жилой недвижимости  \n",
       "15  116820.904450  строительство собственной недвижимости  \n",
       "16  289202.704229                            недвижимость  \n",
       "17   90410.586745              строительство недвижимости  \n",
       "18   56823.777243      на покупку подержанного автомобиля  \n",
       "19  242831.107982            на покупку своего автомобиля  "
      ]
     },
     "execution_count": 2,
     "metadata": {},
     "output_type": "execute_result"
    }
   ],
   "source": [
    "data.head(20)"
   ]
  },
  {
   "attachments": {},
   "cell_type": "markdown",
   "id": "cb4cf00b",
   "metadata": {
    "deletable": false,
    "editable": false,
    "id": "1c12e233"
   },
   "source": [
    "**Задание 3. Выведем основную информацию о датафрейме с помощью метода `info()`.**"
   ]
  },
  {
   "cell_type": "code",
   "execution_count": 3,
   "id": "bc3da384",
   "metadata": {
    "deletable": false,
    "id": "2b757bca",
    "outputId": "15376089-8dad-46c9-b520-c05248d43158"
   },
   "outputs": [
    {
     "name": "stdout",
     "output_type": "stream",
     "text": [
      "<class 'pandas.core.frame.DataFrame'>\n",
      "RangeIndex: 21525 entries, 0 to 21524\n",
      "Data columns (total 12 columns):\n",
      " #   Column            Non-Null Count  Dtype  \n",
      "---  ------            --------------  -----  \n",
      " 0   children          21525 non-null  int64  \n",
      " 1   days_employed     19351 non-null  float64\n",
      " 2   dob_years         21525 non-null  int64  \n",
      " 3   education         21525 non-null  object \n",
      " 4   education_id      21525 non-null  int64  \n",
      " 5   family_status     21525 non-null  object \n",
      " 6   family_status_id  21525 non-null  int64  \n",
      " 7   gender            21525 non-null  object \n",
      " 8   income_type       21525 non-null  object \n",
      " 9   debt              21525 non-null  int64  \n",
      " 10  total_income      19351 non-null  float64\n",
      " 11  purpose           21525 non-null  object \n",
      "dtypes: float64(2), int64(5), object(5)\n",
      "memory usage: 2.0+ MB\n"
     ]
    }
   ],
   "source": [
    "data.info()"
   ]
  },
  {
   "attachments": {},
   "cell_type": "markdown",
   "id": "465b03a3",
   "metadata": {
    "deletable": false,
    "editable": false,
    "id": "333ec665"
   },
   "source": [
    "## Предобработка данных"
   ]
  },
  {
   "attachments": {},
   "cell_type": "markdown",
   "id": "8cbe38d0",
   "metadata": {
    "deletable": false,
    "editable": false,
    "id": "02d92d53"
   },
   "source": [
    "### Удалим пропуски"
   ]
  },
  {
   "attachments": {},
   "cell_type": "markdown",
   "id": "d96e1c3c",
   "metadata": {
    "deletable": false,
    "editable": false,
    "id": "cd84967c"
   },
   "source": [
    "**Задание 4. Выведем количество пропущенных значений для каждого столбца. Используем комбинацию двух методов.**"
   ]
  },
  {
   "cell_type": "code",
   "execution_count": 4,
   "id": "eacccf45",
   "metadata": {
    "deletable": false,
    "id": "7f9b2309",
    "outputId": "81f4d817-781c-465c-ed15-91ce4446810d"
   },
   "outputs": [
    {
     "data": {
      "text/plain": [
       "children               0\n",
       "days_employed       2174\n",
       "dob_years              0\n",
       "education              0\n",
       "education_id           0\n",
       "family_status          0\n",
       "family_status_id       0\n",
       "gender                 0\n",
       "income_type            0\n",
       "debt                   0\n",
       "total_income        2174\n",
       "purpose                0\n",
       "dtype: int64"
      ]
     },
     "execution_count": 4,
     "metadata": {},
     "output_type": "execute_result"
    }
   ],
   "source": [
    "data.isna().sum()"
   ]
  },
  {
   "attachments": {},
   "cell_type": "markdown",
   "id": "96425f1b",
   "metadata": {
    "deletable": false,
    "editable": false,
    "id": "db86e27b"
   },
   "source": [
    "**Задание 5. В двух столбцах есть пропущенные значения. Один из них — `days_employed`. Пропуски в этом столбце вы обработаем на следующем этапе. Другой столбец с пропущенными значениями — `total_income` — хранит данные о доходах. На сумму дохода сильнее всего влияет тип занятости, поэтому заполнить пропуски в этом столбце нужно медианным значением по каждому типу из столбца `income_type`. Например, у человека с типом занятости `сотрудник` пропуск в столбце `total_income` должен быть заполнен медианным доходом среди всех записей с тем же типом.**"
   ]
  },
  {
   "cell_type": "code",
   "execution_count": 5,
   "id": "44a42b85",
   "metadata": {
    "deletable": false,
    "id": "42006a93"
   },
   "outputs": [],
   "source": [
    "for t in data['income_type'].unique():\n",
    "    data.loc[(data['income_type'] == t) & (data['total_income'].isna()), 'total_income'] = \\\n",
    "    data.loc[(data['income_type'] == t), 'total_income'].median()"
   ]
  },
  {
   "attachments": {},
   "cell_type": "markdown",
   "id": "c06fac6b",
   "metadata": {
    "deletable": false,
    "editable": false,
    "id": "89da5ece"
   },
   "source": [
    "### Обработка аномальных значений"
   ]
  },
  {
   "attachments": {},
   "cell_type": "markdown",
   "id": "0e436869",
   "metadata": {
    "deletable": false,
    "editable": false,
    "id": "57964554"
   },
   "source": [
    "**Задание 6. В данных могут встречаться артефакты (аномалии) — значения, которые не отражают действительность и появились по какой-то ошибке. таким артефактом будет отрицательное количество дней трудового стажа в столбце `days_employed`. Для реальных данных это нормально. Обработаем значения в этом столбце: заменим все отрицательные значения положительными с помощью метода `abs()`.**"
   ]
  },
  {
   "cell_type": "code",
   "execution_count": 6,
   "id": "cab32ba9",
   "metadata": {
    "deletable": false,
    "id": "f6f055bf"
   },
   "outputs": [],
   "source": [
    "data['days_employed'] = data['days_employed'].abs()"
   ]
  },
  {
   "attachments": {},
   "cell_type": "markdown",
   "id": "a5d09ba2",
   "metadata": {
    "deletable": false,
    "editable": false,
    "id": "6107dd2f"
   },
   "source": [
    "**Задание 7. Для каждого типа занятости выведем медианное значение трудового стажа `days_employed` в днях.**"
   ]
  },
  {
   "cell_type": "code",
   "execution_count": 7,
   "id": "073e57c2",
   "metadata": {
    "deletable": false,
    "id": "85a5faf6",
    "outputId": "801ef80e-522b-4668-f34e-565af7432bcf"
   },
   "outputs": [
    {
     "data": {
      "text/plain": [
       "income_type\n",
       "безработный        366413.652744\n",
       "в декрете            3296.759962\n",
       "госслужащий          2689.368353\n",
       "компаньон            1547.382223\n",
       "пенсионер          365213.306266\n",
       "предприниматель       520.848083\n",
       "сотрудник            1574.202821\n",
       "студент               578.751554\n",
       "Name: days_employed, dtype: float64"
      ]
     },
     "execution_count": 7,
     "metadata": {},
     "output_type": "execute_result"
    }
   ],
   "source": [
    "\n",
    "data.groupby('income_type')['days_employed'].agg('median')"
   ]
  },
  {
   "attachments": {},
   "cell_type": "markdown",
   "id": "48170842",
   "metadata": {
    "deletable": false,
    "editable": false,
    "id": "38d1a030"
   },
   "source": [
    "У двух типов (безработные и пенсионеры) получатся аномально большие значения. Исправить такие значения сложно, поэтому оставьте их как есть. Тем более этот столбец не понадобится вам для исследования."
   ]
  },
  {
   "attachments": {},
   "cell_type": "markdown",
   "id": "010886fa",
   "metadata": {
    "deletable": false,
    "editable": false,
    "id": "d8a9f147"
   },
   "source": [
    "**Задание 8. Выведем перечень уникальных значений столбца `children`.**"
   ]
  },
  {
   "cell_type": "code",
   "execution_count": 8,
   "id": "77c56bef",
   "metadata": {
    "deletable": false,
    "id": "ef5056eb",
    "outputId": "6975b15c-7f95-4697-d16d-a0c79b657b03"
   },
   "outputs": [
    {
     "data": {
      "text/plain": [
       "array([ 1,  0,  3,  2, -1,  4, 20,  5])"
      ]
     },
     "execution_count": 8,
     "metadata": {},
     "output_type": "execute_result"
    }
   ],
   "source": [
    "data['children'].unique()"
   ]
  },
  {
   "attachments": {},
   "cell_type": "markdown",
   "id": "e9107bbe",
   "metadata": {
    "deletable": false,
    "editable": false,
    "id": "40b9ebf2"
   },
   "source": [
    "**Задание 9. В столбце `children` есть два аномальных значения. Удалим строки, в которых встречаются такие аномальные значения из датафрейма `data`.**"
   ]
  },
  {
   "cell_type": "code",
   "execution_count": 9,
   "id": "bba57f80",
   "metadata": {
    "deletable": false,
    "id": "3ff9801d"
   },
   "outputs": [],
   "source": [
    "data = data[(data['children'] != -1) & (data['children'] != 20)]"
   ]
  },
  {
   "attachments": {},
   "cell_type": "markdown",
   "id": "f10608c4",
   "metadata": {
    "deletable": false,
    "editable": false,
    "id": "bbc4d0ce"
   },
   "source": [
    "**Задание 10. Ещё раз выведем перечень уникальных значений столбца `children`, чтобы убедиться, что артефакты удалены.**"
   ]
  },
  {
   "cell_type": "code",
   "execution_count": 10,
   "id": "21416762",
   "metadata": {
    "deletable": false,
    "id": "ad4fa8b7",
    "outputId": "b2097101-d49d-44d9-901b-32a65c9463d1"
   },
   "outputs": [
    {
     "data": {
      "text/plain": [
       "array([1, 0, 3, 2, 4, 5])"
      ]
     },
     "execution_count": 10,
     "metadata": {},
     "output_type": "execute_result"
    }
   ],
   "source": [
    "data['children'].unique()"
   ]
  },
  {
   "attachments": {},
   "cell_type": "markdown",
   "id": "f2fa5138",
   "metadata": {
    "deletable": false,
    "editable": false,
    "id": "75440b63"
   },
   "source": [
    "### Удаление пропусков (продолжение)"
   ]
  },
  {
   "attachments": {},
   "cell_type": "markdown",
   "id": "3e66fece",
   "metadata": {
    "deletable": false,
    "editable": false,
    "id": "f4ea573f"
   },
   "source": [
    "**Задание 11. Заполним пропуски в столбце `days_employed` медианными значениями по каждого типа занятости `income_type`.**"
   ]
  },
  {
   "cell_type": "code",
   "execution_count": 11,
   "id": "79480511",
   "metadata": {
    "deletable": false,
    "id": "af6b1a7e"
   },
   "outputs": [],
   "source": [
    "for t in data['income_type'].unique():\n",
    "    data.loc[(data['income_type'] == t) & (data['days_employed'].isna()), 'days_employed'] = \\\n",
    "    data.loc[(data['income_type'] == t), 'days_employed'].median()"
   ]
  },
  {
   "attachments": {},
   "cell_type": "markdown",
   "id": "11d441ce",
   "metadata": {
    "deletable": false,
    "editable": false,
    "id": "2753f40d"
   },
   "source": [
    "**Задание 12. Убедимся, что все пропуски заполнены. Проверим себя и ещё раз выведите количество пропущенных значений для каждого столбца с помощью двух методов.**"
   ]
  },
  {
   "cell_type": "code",
   "execution_count": 12,
   "id": "56831da1",
   "metadata": {
    "deletable": false,
    "id": "55f78bc2",
    "outputId": "8da1e4e1-358e-4e87-98c9-f261bce0a7b2"
   },
   "outputs": [
    {
     "data": {
      "text/plain": [
       "children            0\n",
       "days_employed       0\n",
       "dob_years           0\n",
       "education           0\n",
       "education_id        0\n",
       "family_status       0\n",
       "family_status_id    0\n",
       "gender              0\n",
       "income_type         0\n",
       "debt                0\n",
       "total_income        0\n",
       "purpose             0\n",
       "dtype: int64"
      ]
     },
     "execution_count": 12,
     "metadata": {},
     "output_type": "execute_result"
    }
   ],
   "source": [
    "data.isna().sum()"
   ]
  },
  {
   "attachments": {},
   "cell_type": "markdown",
   "id": "3ecf433d",
   "metadata": {
    "deletable": false,
    "editable": false,
    "id": "ddc81e43"
   },
   "source": [
    "### Изменение типов данных"
   ]
  },
  {
   "attachments": {},
   "cell_type": "markdown",
   "id": "de5006fe",
   "metadata": {
    "deletable": false,
    "editable": false,
    "id": "42d19d24"
   },
   "source": [
    "**Задание 13. Заменим вещественный тип данных в столбце `total_income` на целочисленный с помощью метода `astype()`.**"
   ]
  },
  {
   "cell_type": "code",
   "execution_count": 13,
   "id": "594bcfce",
   "metadata": {
    "deletable": false,
    "id": "920b65ad"
   },
   "outputs": [],
   "source": [
    "data['total_income'] = data['total_income'].astype(int)"
   ]
  },
  {
   "attachments": {},
   "cell_type": "markdown",
   "id": "179db049",
   "metadata": {
    "deletable": false,
    "editable": false,
    "id": "80c420ba"
   },
   "source": [
    "### Обработка дубликатов"
   ]
  },
  {
   "attachments": {},
   "cell_type": "markdown",
   "id": "8678310f",
   "metadata": {
    "deletable": false,
    "editable": false
   },
   "source": [
    "**Задание 14. Обработаем неявные дубликаты в столбце `education`. В этом столбце есть одни и те же значения, но записанные по-разному: с использованием заглавных и строчных букв. Приведем их к нижнему регистру. Проверим остальные столбцы.**"
   ]
  },
  {
   "cell_type": "code",
   "execution_count": 14,
   "id": "5b0308b3",
   "metadata": {
    "deletable": false
   },
   "outputs": [],
   "source": [
    "\n",
    "data['education'] = data['education'].str.lower()"
   ]
  },
  {
   "attachments": {},
   "cell_type": "markdown",
   "id": "8d87a38d",
   "metadata": {
    "deletable": false,
    "editable": false,
    "id": "dc587695"
   },
   "source": [
    "**Задание 15. Выведем на экран количество строк-дубликатов в данных. Если такие строки присутствуют, удалим их.**"
   ]
  },
  {
   "cell_type": "code",
   "execution_count": 15,
   "id": "92b03c72",
   "metadata": {
    "deletable": false,
    "id": "3ee445e4",
    "outputId": "9684deba-1934-42d1-99e1-cda61740f822"
   },
   "outputs": [
    {
     "data": {
      "text/plain": [
       "71"
      ]
     },
     "execution_count": 15,
     "metadata": {},
     "output_type": "execute_result"
    }
   ],
   "source": [
    "data.duplicated().sum()"
   ]
  },
  {
   "cell_type": "code",
   "execution_count": 16,
   "id": "d81a1dad",
   "metadata": {
    "deletable": false,
    "id": "8575fe05"
   },
   "outputs": [],
   "source": [
    "data = data.drop_duplicates()"
   ]
  },
  {
   "attachments": {},
   "cell_type": "markdown",
   "id": "9d604965",
   "metadata": {
    "deletable": false,
    "editable": false,
    "id": "9904cf55"
   },
   "source": [
    "### Категоризация данных"
   ]
  },
  {
   "attachments": {},
   "cell_type": "markdown",
   "id": "f5d899d4",
   "metadata": {
    "deletable": false,
    "editable": false,
    "id": "72fcc8a2"
   },
   "source": [
    "**Задание 16. На основании диапазонов, указанных ниже, создадим в датафрейме `data` столбец `total_income_category` с категориями:**\n",
    "\n",
    "- 0–30000 — `'E'`;\n",
    "- 30001–50000 — `'D'`;\n",
    "- 50001–200000 — `'C'`;\n",
    "- 200001–1000000 — `'B'`;\n",
    "- 1000001 и выше — `'A'`.\n",
    "\n",
    "\n",
    "**Например, кредитополучателю с доходом 25000 нужно назначить категорию `'E'`, а клиенту, получающему 235000, — `'B'`. Используем собственную функцию с именем `categorize_income()` и метод `apply()`.**"
   ]
  },
  {
   "cell_type": "code",
   "execution_count": 17,
   "id": "f6cdedc8",
   "metadata": {
    "deletable": false,
    "id": "e1771346"
   },
   "outputs": [],
   "source": [
    "def categorize_income(income):\n",
    "    try:\n",
    "        if 0 <= income <= 30000:\n",
    "            return 'E'\n",
    "        elif 30001 <= income <= 50000:\n",
    "            return 'D'\n",
    "        elif 50001 <= income <= 200000:\n",
    "            return 'C'\n",
    "        elif 200001 <= income <= 1000000:\n",
    "            return 'B'\n",
    "        elif income >= 1000001:\n",
    "            return 'A'\n",
    "    except:\n",
    "        pass"
   ]
  },
  {
   "cell_type": "code",
   "execution_count": 18,
   "id": "42eec55c",
   "metadata": {
    "deletable": false,
    "id": "d5f3586d"
   },
   "outputs": [],
   "source": [
    "\n",
    "\n",
    "\n",
    "data['total_income_category'] = data['total_income'].apply(categorize_income)"
   ]
  },
  {
   "attachments": {},
   "cell_type": "markdown",
   "id": "9df95a0b",
   "metadata": {
    "deletable": false,
    "editable": false,
    "id": "dde49b5c"
   },
   "source": [
    "**Задание 17. Выведем на экран перечень уникальных целей взятия кредита из столбца `purpose`.**"
   ]
  },
  {
   "cell_type": "code",
   "execution_count": 19,
   "id": "fd289aed",
   "metadata": {
    "deletable": false,
    "id": "f67ce9b3",
    "outputId": "673c12d9-7d7e-4ae0-9812-c622c89dd244"
   },
   "outputs": [
    {
     "data": {
      "text/plain": [
       "array(['покупка жилья', 'приобретение автомобиля',\n",
       "       'дополнительное образование', 'сыграть свадьбу',\n",
       "       'операции с жильем', 'образование', 'на проведение свадьбы',\n",
       "       'покупка жилья для семьи', 'покупка недвижимости',\n",
       "       'покупка коммерческой недвижимости', 'покупка жилой недвижимости',\n",
       "       'строительство собственной недвижимости', 'недвижимость',\n",
       "       'строительство недвижимости', 'на покупку подержанного автомобиля',\n",
       "       'на покупку своего автомобиля',\n",
       "       'операции с коммерческой недвижимостью',\n",
       "       'строительство жилой недвижимости', 'жилье',\n",
       "       'операции со своей недвижимостью', 'автомобили',\n",
       "       'заняться образованием', 'сделка с подержанным автомобилем',\n",
       "       'получение образования', 'автомобиль', 'свадьба',\n",
       "       'получение дополнительного образования', 'покупка своего жилья',\n",
       "       'операции с недвижимостью', 'получение высшего образования',\n",
       "       'свой автомобиль', 'сделка с автомобилем',\n",
       "       'профильное образование', 'высшее образование',\n",
       "       'покупка жилья для сдачи', 'на покупку автомобиля', 'ремонт жилью',\n",
       "       'заняться высшим образованием'], dtype=object)"
      ]
     },
     "execution_count": 19,
     "metadata": {},
     "output_type": "execute_result"
    }
   ],
   "source": [
    "data['purpose'].unique()"
   ]
  },
  {
   "attachments": {},
   "cell_type": "markdown",
   "id": "6581cef7",
   "metadata": {
    "deletable": false,
    "editable": false,
    "id": "85d0aef0"
   },
   "source": [
    "**Задание 18. Создадим функцию, которая на основании данных из столбца `purpose` сформирует новый столбец `purpose_category`, в который войдут следующие категории:**\n",
    "\n",
    "- `'операции с автомобилем'`,\n",
    "- `'операции с недвижимостью'`,\n",
    "- `'проведение свадьбы'`,\n",
    "- `'получение образования'`.\n",
    "\n",
    "**Например, если в столбце `purpose` находится подстрока `'на покупку автомобиля'`, то в столбце `purpose_category` должна появиться строка `'операции с автомобилем'`.**\n",
    "\n",
    "**Используем собственную функцию с именем `categorize_purpose()` и метод `apply()`. Изучим данные в столбце `purpose` и определим, какие подстроки помогут  правильно определить категорию.**"
   ]
  },
  {
   "cell_type": "code",
   "execution_count": 20,
   "id": "c04c9383",
   "metadata": {
    "deletable": false,
    "id": "e149fab4"
   },
   "outputs": [],
   "source": [
    "\n",
    "\n",
    "\n",
    "def categorize_purpose(row):\n",
    "    try:\n",
    "        if 'автом' in row:\n",
    "            return 'операции с автомобилем'\n",
    "        elif 'жил' in row or 'недвиж' in row:\n",
    "            return 'операции с недвижимостью'\n",
    "        elif 'свад' in row:\n",
    "            return 'проведение свадьбы'\n",
    "        elif 'образов' in row:\n",
    "            return 'получение образования'\n",
    "    except:\n",
    "        return 'нет категории'"
   ]
  },
  {
   "cell_type": "code",
   "execution_count": 21,
   "id": "16b7ab44",
   "metadata": {
    "deletable": false,
    "id": "bf36e69b"
   },
   "outputs": [],
   "source": [
    "\n",
    "data['purpose_category'] = data['purpose'].apply(categorize_purpose)"
   ]
  },
  {
   "attachments": {},
   "cell_type": "markdown",
   "id": "6c052c42",
   "metadata": {
    "deletable": false,
    "editable": false,
    "id": "09b242bf"
   },
   "source": [
    "### Шаг 3. Исследуем данные и ответьте на вопросы"
   ]
  },
  {
   "attachments": {},
   "cell_type": "markdown",
   "id": "790347c7",
   "metadata": {
    "deletable": false,
    "editable": false,
    "id": "c5d66278"
   },
   "source": [
    "#### 3.1 Есть ли зависимость между количеством детей и возвратом кредита в срок?"
   ]
  },
  {
   "cell_type": "code",
   "execution_count": 22,
   "id": "330beaae",
   "metadata": {},
   "outputs": [],
   "source": [
    "# функция, которая посчитает нам отношение в процентах\n",
    "def make_proportion(pdSerises):\n",
    "    return str(round((pdSerises.sum() / pdSerises.count()) * 100, 3)) + '%'"
   ]
  },
  {
   "cell_type": "code",
   "execution_count": 23,
   "id": "a87a5b03",
   "metadata": {},
   "outputs": [],
   "source": [
    "def common(data_pivot):\n",
    "    data_temp = data_pivot.rename(columns={'sum':'Всего кредитополучателей', 'count':'Всего должников', 'mean':'Доля должников'})\n",
    "    return(data_temp)"
   ]
  },
  {
   "cell_type": "code",
   "execution_count": 24,
   "id": "5a89d24e",
   "metadata": {},
   "outputs": [
    {
     "data": {
      "text/html": [
       "<div>\n",
       "<style scoped>\n",
       "    .dataframe tbody tr th:only-of-type {\n",
       "        vertical-align: middle;\n",
       "    }\n",
       "\n",
       "    .dataframe tbody tr th {\n",
       "        vertical-align: top;\n",
       "    }\n",
       "\n",
       "    .dataframe thead tr th {\n",
       "        text-align: left;\n",
       "    }\n",
       "\n",
       "    .dataframe thead tr:last-of-type th {\n",
       "        text-align: right;\n",
       "    }\n",
       "</style>\n",
       "<table border=\"1\" class=\"dataframe\">\n",
       "  <thead>\n",
       "    <tr>\n",
       "      <th></th>\n",
       "      <th>Всего кредитополучателей</th>\n",
       "      <th>Всего должников</th>\n",
       "      <th>Доля должников</th>\n",
       "    </tr>\n",
       "    <tr>\n",
       "      <th></th>\n",
       "      <th>debt</th>\n",
       "      <th>debt</th>\n",
       "      <th>debt</th>\n",
       "    </tr>\n",
       "    <tr>\n",
       "      <th>children</th>\n",
       "      <th></th>\n",
       "      <th></th>\n",
       "      <th></th>\n",
       "    </tr>\n",
       "  </thead>\n",
       "  <tbody>\n",
       "    <tr>\n",
       "      <th>0</th>\n",
       "      <td>1063</td>\n",
       "      <td>14091</td>\n",
       "      <td>0.075438</td>\n",
       "    </tr>\n",
       "    <tr>\n",
       "      <th>1</th>\n",
       "      <td>444</td>\n",
       "      <td>4808</td>\n",
       "      <td>0.092346</td>\n",
       "    </tr>\n",
       "    <tr>\n",
       "      <th>2</th>\n",
       "      <td>194</td>\n",
       "      <td>2052</td>\n",
       "      <td>0.094542</td>\n",
       "    </tr>\n",
       "    <tr>\n",
       "      <th>3</th>\n",
       "      <td>27</td>\n",
       "      <td>330</td>\n",
       "      <td>0.081818</td>\n",
       "    </tr>\n",
       "    <tr>\n",
       "      <th>4</th>\n",
       "      <td>4</td>\n",
       "      <td>41</td>\n",
       "      <td>0.097561</td>\n",
       "    </tr>\n",
       "    <tr>\n",
       "      <th>5</th>\n",
       "      <td>0</td>\n",
       "      <td>9</td>\n",
       "      <td>0.000000</td>\n",
       "    </tr>\n",
       "  </tbody>\n",
       "</table>\n",
       "</div>"
      ],
      "text/plain": [
       "         Всего кредитополучателей Всего должников Доля должников\n",
       "                             debt            debt           debt\n",
       "children                                                        \n",
       "0                            1063           14091       0.075438\n",
       "1                             444            4808       0.092346\n",
       "2                             194            2052       0.094542\n",
       "3                              27             330       0.081818\n",
       "4                               4              41       0.097561\n",
       "5                               0               9       0.000000"
      ]
     },
     "execution_count": 24,
     "metadata": {},
     "output_type": "execute_result"
    }
   ],
   "source": [
    "data_pivot = common(data.pivot_table(index=['children'], values='debt', aggfunc=['sum', 'count', 'mean']))\n",
    "#print(data_temp)\n",
    "data_pivot"
   ]
  },
  {
   "attachments": {},
   "cell_type": "markdown",
   "id": "a58d48cc",
   "metadata": {
    "deletable": false,
    "id": "3a6b99ec"
   },
   "source": [
    "# **Вывод:** "
   ]
  },
  {
   "attachments": {},
   "cell_type": "markdown",
   "id": "157071dd",
   "metadata": {},
   "source": [
    "Разница колеблится в пределах 1%, что не выводит явной закономерности, но меньше всего вероятность у кредиторов без детей, а по кредиторам с 5ю детьми выборка слишком мала, чтобы отображалась объективная статистика"
   ]
  },
  {
   "attachments": {},
   "cell_type": "markdown",
   "id": "a95bcd50",
   "metadata": {
    "deletable": false,
    "editable": false,
    "id": "97be82ca"
   },
   "source": [
    "#### 3.2 Есть ли зависимость между семейным положением и возвратом кредита в срок?"
   ]
  },
  {
   "cell_type": "code",
   "execution_count": 25,
   "id": "4ca8340b",
   "metadata": {
    "deletable": false,
    "id": "dc3f7ee8"
   },
   "outputs": [
    {
     "name": "stdout",
     "output_type": "stream",
     "text": [
      "                       sum  count      mean\n",
      "                      debt   debt      debt\n",
      "family_status                              \n",
      "Не женат / не замужем  273   2796  0.097639\n",
      "в разводе               84   1189  0.070648\n",
      "вдовец / вдова          63    951  0.066246\n",
      "гражданский брак       385   4134  0.093130\n",
      "женат / замужем        927  12261  0.075606\n"
     ]
    }
   ],
   "source": [
    "data_pivot = data.pivot_table(index=['family_status'], values='debt', aggfunc=['sum', 'count', 'mean'])\n",
    "print(data_pivot)"
   ]
  },
  {
   "attachments": {},
   "cell_type": "markdown",
   "id": "a11e94c1",
   "metadata": {
    "deletable": false,
    "editable": false,
    "id": "1e8b2fca"
   },
   "source": [
    "#### 3.3 Есть ли зависимость между уровнем дохода и возвратом кредита в срок?"
   ]
  },
  {
   "cell_type": "code",
   "execution_count": 26,
   "id": "3a781881",
   "metadata": {},
   "outputs": [],
   "source": [
    "# Создадим функцию, которая распределит широкий диапазон доходов в несколько категорий.\n",
    "def make_income_category(total_income):\n",
    "    if total_income < 50000:\n",
    "        return 'До 50000'\n",
    "    if 50000 <= total_income < 100000:\n",
    "        return 'От 50 до 100'\n",
    "    if 100000 <= total_income < 150000:\n",
    "        return 'От 100 до 150'\n",
    "    if 150000 <= total_income < 200000:\n",
    "        return 'От 150 до 200'\n",
    "    if 200000 <= total_income < 500000:\n",
    "        return 'От 200 до 500'\n",
    "    return 'Больше 500'\n",
    "\n",
    "\n",
    "data['income_category'] = data['total_income'].apply(make_income_category)"
   ]
  },
  {
   "cell_type": "code",
   "execution_count": 27,
   "id": "55963d26",
   "metadata": {
    "deletable": false,
    "id": "cd7e3720"
   },
   "outputs": [
    {
     "data": {
      "text/html": [
       "<div>\n",
       "<style scoped>\n",
       "    .dataframe tbody tr th:only-of-type {\n",
       "        vertical-align: middle;\n",
       "    }\n",
       "\n",
       "    .dataframe tbody tr th {\n",
       "        vertical-align: top;\n",
       "    }\n",
       "\n",
       "    .dataframe thead tr th {\n",
       "        text-align: left;\n",
       "    }\n",
       "\n",
       "    .dataframe thead tr:last-of-type th {\n",
       "        text-align: right;\n",
       "    }\n",
       "</style>\n",
       "<table border=\"1\" class=\"dataframe\">\n",
       "  <thead>\n",
       "    <tr>\n",
       "      <th></th>\n",
       "      <th>sum</th>\n",
       "      <th>count</th>\n",
       "      <th>make_proportion</th>\n",
       "    </tr>\n",
       "    <tr>\n",
       "      <th></th>\n",
       "      <th>debt</th>\n",
       "      <th>debt</th>\n",
       "      <th>debt</th>\n",
       "    </tr>\n",
       "    <tr>\n",
       "      <th>income_category</th>\n",
       "      <th></th>\n",
       "      <th></th>\n",
       "      <th></th>\n",
       "    </tr>\n",
       "  </thead>\n",
       "  <tbody>\n",
       "    <tr>\n",
       "      <th>Больше 500</th>\n",
       "      <td>14</td>\n",
       "      <td>222</td>\n",
       "      <td>6.306%</td>\n",
       "    </tr>\n",
       "    <tr>\n",
       "      <th>До 50000</th>\n",
       "      <td>23</td>\n",
       "      <td>371</td>\n",
       "      <td>6.199%</td>\n",
       "    </tr>\n",
       "    <tr>\n",
       "      <th>От 100 до 150</th>\n",
       "      <td>619</td>\n",
       "      <td>7110</td>\n",
       "      <td>8.706%</td>\n",
       "    </tr>\n",
       "    <tr>\n",
       "      <th>От 150 до 200</th>\n",
       "      <td>403</td>\n",
       "      <td>4738</td>\n",
       "      <td>8.506%</td>\n",
       "    </tr>\n",
       "    <tr>\n",
       "      <th>От 200 до 500</th>\n",
       "      <td>342</td>\n",
       "      <td>4817</td>\n",
       "      <td>7.1%</td>\n",
       "    </tr>\n",
       "    <tr>\n",
       "      <th>От 50 до 100</th>\n",
       "      <td>331</td>\n",
       "      <td>4073</td>\n",
       "      <td>8.127%</td>\n",
       "    </tr>\n",
       "  </tbody>\n",
       "</table>\n",
       "</div>"
      ],
      "text/plain": [
       "                 sum count make_proportion\n",
       "                debt  debt            debt\n",
       "income_category                           \n",
       "Больше 500        14   222          6.306%\n",
       "До 50000          23   371          6.199%\n",
       "От 100 до 150    619  7110          8.706%\n",
       "От 150 до 200    403  4738          8.506%\n",
       "От 200 до 500    342  4817            7.1%\n",
       "От 50 до 100     331  4073          8.127%"
      ]
     },
     "execution_count": 27,
     "metadata": {},
     "output_type": "execute_result"
    }
   ],
   "source": [
    "# соберем сводную таблицу. Сформируем данные по income_category для колонки debt. Применим функцию для значений sum и count.\n",
    "data_pivot = data.pivot_table(index=['income_category'], values=[\"debt\"], aggfunc=['sum', 'count', make_proportion])\n",
    "#print(data_temp)\n",
    "data_pivot"
   ]
  },
  {
   "attachments": {},
   "cell_type": "markdown",
   "id": "bb9e3747",
   "metadata": {
    "deletable": false,
    "id": "e8593def"
   },
   "source": [
    "**Вывод:** "
   ]
  },
  {
   "attachments": {},
   "cell_type": "markdown",
   "id": "6037dde7",
   "metadata": {},
   "source": [
    "Чем больше уровень дохода, тем ниже необходимость в потребительских кредитах и ниже процент просрочки платежа"
   ]
  },
  {
   "cell_type": "code",
   "execution_count": null,
   "id": "f0404e91",
   "metadata": {},
   "outputs": [],
   "source": []
  },
  {
   "attachments": {},
   "cell_type": "markdown",
   "id": "26ecbe2d",
   "metadata": {
    "deletable": false,
    "editable": false,
    "id": "99ecbd1f"
   },
   "source": [
    "#### 3.4 Как разные цели кредита влияют на его возврат в срок?"
   ]
  },
  {
   "cell_type": "code",
   "execution_count": 28,
   "id": "4e2c9b69",
   "metadata": {
    "deletable": false,
    "id": "2b687290"
   },
   "outputs": [
    {
     "name": "stdout",
     "output_type": "stream",
     "text": [
      "                          sum  count      mean\n",
      "                         debt   debt      debt\n",
      "purpose_category                              \n",
      "операции с автомобилем    400   4279  0.093480\n",
      "операции с недвижимостью  780  10751  0.072551\n",
      "получение образования     369   3988  0.092528\n",
      "проведение свадьбы        183   2313  0.079118\n"
     ]
    }
   ],
   "source": [
    "data_pivot = data.pivot_table(index=['purpose_category'], values='debt', aggfunc=['sum', 'count', 'mean'])\n",
    "print(data_pivot)"
   ]
  },
  {
   "attachments": {},
   "cell_type": "markdown",
   "id": "73051316",
   "metadata": {
    "deletable": false,
    "id": "b4bb2ce6"
   },
   "source": [
    "**Вывод:** "
   ]
  },
  {
   "attachments": {},
   "cell_type": "markdown",
   "id": "cafe0121",
   "metadata": {},
   "source": [
    "В нише свадьбы и операции с недвижимостью наблюдается меньше просрочек, чем в образовании и автомобилях"
   ]
  },
  {
   "attachments": {},
   "cell_type": "markdown",
   "id": "109efa5d",
   "metadata": {
    "deletable": false,
    "editable": false,
    "id": "09c3ac4c"
   },
   "source": [
    "#### 3.5 Приведем возможные причины появления пропусков в исходных данных."
   ]
  },
  {
   "attachments": {},
   "cell_type": "markdown",
   "id": "ac0b5504",
   "metadata": {
    "deletable": false,
    "id": "9da2ceda"
   },
   "source": [
    "Можно предположить, что корректность данных в ячейках, если не брать технические сбои и баги, зависит от того обязательны ли поля к заполнению, есть ли дополнительная проверка роботами введенных данных на наличие отклонения их от стандартных вариантов, которые должны быть обусловленны програмистами не давая возможности пользователю отклонится от требуетых параметров."
   ]
  },
  {
   "attachments": {},
   "cell_type": "markdown",
   "id": "d2d8c4c1",
   "metadata": {
    "deletable": false,
    "editable": false,
    "id": "7b0487d6"
   },
   "source": [
    "#### 3.6 Объясним, почему заполнить пропуски медианным значением — лучшее решение для количественных переменных."
   ]
  },
  {
   "attachments": {},
   "cell_type": "markdown",
   "id": "ef0db4d9",
   "metadata": {
    "deletable": false,
    "id": "7ecf2b8e"
   },
   "source": [
    "*Ответ:* Медианные заначения более реалестично отаржают 'среднюю температуру по больнице' так как срезают всплески, исключаяя вывод средней зарплаты в 500тыс.рублей на выборке, где есть зарплаты в 5тр и 1 000 000 000 рублей."
   ]
  },
  {
   "attachments": {},
   "cell_type": "markdown",
   "id": "35fc0085",
   "metadata": {
    "deletable": false,
    "editable": false,
    "id": "6db5255a"
   },
   "source": [
    "### Шаг 4: общий вывод."
   ]
  },
  {
   "attachments": {},
   "cell_type": "markdown",
   "id": "de8833ab",
   "metadata": {},
   "source": [
    "<h1>Детализация</h1>\n",
    "<div class=\"alert alert-info\" role=\"alert\" >\n",
    "\n",
    " Самый привлекательный вид заемщике - это человек без детей,состоявший в официальных отношениях, имеющий высокий уровень дохода и берущий деньги на недвижимость.  \n",
    "    \n",
    "  \"Разброс\" просроченных платежей по каждой из категорий приблезительно одинаковый. В среднем, это диапазоны от 7 до 10 процентов. В остальном разница  не сильно отличается. Однако если смотреть в относительных величинах разница составляет в среднем 2 процента.\n",
    "\n",
    "Детально по категориям:\n",
    "\n",
    "- Влияние наличия детей на вероятность просрочки платежа\n",
    "- По наличию детей\n",
    " 1. 5\tдетей\t - 0.000000 в расчет не берется\n",
    " 2. 0\tдетей\t - 0.075438\n",
    " 3. 3\tдетей\t - 0.081818\n",
    " 4. 1\tребенок  - 0.092346\n",
    " 5. 2\tдетей    - 0.094542\n",
    " 6. 4\tдетей\t - 0.097561\n",
    "- Абсолютная разница между минимальным и максимальным значением - 2.2%\n",
    "- Влияние семейного положения на вероятность просрочки платежа\n",
    "- По семейному положению\n",
    " 1. Не женат / не замужем  - 0.097639\n",
    " 2. гражданский брак\t   - 0.093130\n",
    " 3. женат / замужем\t- 0.075606\n",
    " 4. в разводе\t- 0.070648\n",
    " 5. вдовец / вдова\t- 0.066246\n",
    "- Абсолютная разница между минимальным и максимальным значением - 3.15%\n",
    "- Влияние уровня дохода на просрочку платежа\n",
    "- По уровню дохода\n",
    " 1. От 100 до 150 - 8.706%\n",
    " 2. От 150 до 200 - 8.506%\n",
    " 3. От 50 до 100 - 8.127%\n",
    " 4. От 200 до 500 - 7.1%\n",
    " 5. Больше 500 - 6.306%\n",
    " 6. До 50000\t- 6.199%\n",
    "- Абсолютная разница между минимальным и максимальным значением - 2.5%\n",
    "- Влияние цели кредита на вероятность возврата кредита в срок\n",
    "По цели кредита\n",
    " 1. операции с автомобилем - 9.348%\n",
    " 2. получение образования - 9.253%\n",
    " 3. проведение свадьбы\t- 7.912%\n",
    " 4. операции с недвижимостью\t- 7.255%\n",
    "- Абсолютная разница между минимальным и максимальным значением - 2.09%\n",
    "    Таким образом, несмотря на схожий в процентном отношении разброс целевых значений, наибольшее влияние на вероятность просрочки показывает именно семейное положение. Во вторую очередь, следует обращать внимание на уровень дохода. Наименьшее влияние оказывают цели кредита и наличие детей.\n",
    "</div>"
   ]
  }
 ],
 "metadata": {
  "ExecuteTimeLog": [
   {
    "duration": 3,
    "start_time": "2022-11-06T22:16:41.878Z"
   },
   {
    "duration": 2,
    "start_time": "2022-11-06T22:16:45.531Z"
   },
   {
    "duration": 2,
    "start_time": "2022-11-06T22:16:48.999Z"
   },
   {
    "duration": 2,
    "start_time": "2022-11-06T22:29:33.751Z"
   },
   {
    "duration": 2,
    "start_time": "2022-11-06T22:37:29.250Z"
   },
   {
    "duration": 2,
    "start_time": "2022-11-06T22:37:38.285Z"
   },
   {
    "duration": 3,
    "start_time": "2022-11-06T22:37:42.041Z"
   },
   {
    "duration": 2,
    "start_time": "2022-11-06T22:42:27.412Z"
   },
   {
    "duration": 2,
    "start_time": "2022-11-06T22:44:12.333Z"
   },
   {
    "duration": 3,
    "start_time": "2022-11-06T22:47:52.862Z"
   },
   {
    "duration": 2,
    "start_time": "2022-11-06T22:47:57.687Z"
   },
   {
    "duration": 45,
    "start_time": "2022-11-08T02:50:34.431Z"
   },
   {
    "duration": 670,
    "start_time": "2022-11-08T02:51:13.957Z"
   },
   {
    "duration": 19,
    "start_time": "2022-11-08T02:51:15.097Z"
   },
   {
    "duration": 13,
    "start_time": "2022-11-08T02:51:16.190Z"
   },
   {
    "duration": 10,
    "start_time": "2022-11-08T02:51:18.311Z"
   },
   {
    "duration": 31,
    "start_time": "2022-11-08T02:51:19.257Z"
   },
   {
    "duration": 4,
    "start_time": "2022-11-08T02:51:20.602Z"
   },
   {
    "duration": 7,
    "start_time": "2022-11-08T02:51:21.410Z"
   },
   {
    "duration": 4,
    "start_time": "2022-11-08T02:51:22.744Z"
   },
   {
    "duration": 6,
    "start_time": "2022-11-08T02:51:23.597Z"
   },
   {
    "duration": 4,
    "start_time": "2022-11-08T02:51:24.448Z"
   },
   {
    "duration": 32,
    "start_time": "2022-11-08T02:51:25.692Z"
   },
   {
    "duration": 8,
    "start_time": "2022-11-08T02:51:26.381Z"
   },
   {
    "duration": 4,
    "start_time": "2022-11-08T02:51:27.582Z"
   },
   {
    "duration": 11,
    "start_time": "2022-11-08T02:51:28.730Z"
   },
   {
    "duration": 18,
    "start_time": "2022-11-08T02:51:29.495Z"
   },
   {
    "duration": 16,
    "start_time": "2022-11-08T02:51:29.856Z"
   },
   {
    "duration": 4,
    "start_time": "2022-11-08T02:51:31.091Z"
   },
   {
    "duration": 10,
    "start_time": "2022-11-08T02:51:31.528Z"
   },
   {
    "duration": 5,
    "start_time": "2022-11-08T02:51:32.383Z"
   },
   {
    "duration": 3,
    "start_time": "2022-11-08T02:51:33.253Z"
   },
   {
    "duration": 9,
    "start_time": "2022-11-08T02:51:33.702Z"
   },
   {
    "duration": 16,
    "start_time": "2022-11-08T02:51:35.266Z"
   },
   {
    "duration": 4,
    "start_time": "2022-11-08T02:54:18.106Z"
   },
   {
    "duration": 19,
    "start_time": "2022-11-08T02:56:06.952Z"
   },
   {
    "duration": 32,
    "start_time": "2022-11-08T02:57:25.221Z"
   },
   {
    "duration": 7,
    "start_time": "2022-11-08T02:57:35.000Z"
   },
   {
    "duration": 9,
    "start_time": "2022-11-08T02:57:47.857Z"
   },
   {
    "duration": 9,
    "start_time": "2022-11-08T02:57:56.853Z"
   },
   {
    "duration": 8,
    "start_time": "2022-11-08T02:58:25.019Z"
   },
   {
    "duration": 4,
    "start_time": "2022-11-08T02:58:34.321Z"
   },
   {
    "duration": 696,
    "start_time": "2022-11-08T02:59:03.065Z"
   },
   {
    "duration": 4,
    "start_time": "2022-11-08T02:59:32.832Z"
   },
   {
    "duration": 10,
    "start_time": "2022-11-08T03:00:12.304Z"
   },
   {
    "duration": 11,
    "start_time": "2022-11-08T03:00:21.422Z"
   },
   {
    "duration": 11,
    "start_time": "2022-11-08T03:00:35.880Z"
   },
   {
    "duration": 14,
    "start_time": "2022-11-08T03:00:49.270Z"
   },
   {
    "duration": 6,
    "start_time": "2022-11-08T03:17:20.790Z"
   },
   {
    "duration": 8,
    "start_time": "2022-11-08T03:21:05.209Z"
   },
   {
    "duration": 3,
    "start_time": "2022-11-08T03:22:43.647Z"
   },
   {
    "duration": 6,
    "start_time": "2022-11-08T03:23:57.789Z"
   },
   {
    "duration": 3,
    "start_time": "2022-11-08T03:24:52.533Z"
   },
   {
    "duration": 59,
    "start_time": "2022-11-08T03:24:53.228Z"
   },
   {
    "duration": 66,
    "start_time": "2022-11-08T03:25:08.812Z"
   },
   {
    "duration": 16,
    "start_time": "2022-11-08T03:25:33.821Z"
   },
   {
    "duration": 17,
    "start_time": "2022-11-08T03:25:56.452Z"
   },
   {
    "duration": 21,
    "start_time": "2022-11-08T03:26:09.474Z"
   },
   {
    "duration": 20,
    "start_time": "2022-11-08T03:26:12.376Z"
   },
   {
    "duration": 12,
    "start_time": "2022-11-08T03:26:31.501Z"
   },
   {
    "duration": 54,
    "start_time": "2022-11-08T03:27:23.345Z"
   },
   {
    "duration": 49,
    "start_time": "2022-11-08T03:27:28.398Z"
   },
   {
    "duration": 9,
    "start_time": "2022-11-08T03:27:48.074Z"
   },
   {
    "duration": 9,
    "start_time": "2022-11-08T03:27:57.917Z"
   },
   {
    "duration": 8,
    "start_time": "2022-11-08T03:31:35.762Z"
   },
   {
    "duration": 45,
    "start_time": "2022-11-08T03:32:55.147Z"
   },
   {
    "duration": 7,
    "start_time": "2022-11-08T03:33:00.378Z"
   },
   {
    "duration": 6,
    "start_time": "2022-11-08T03:33:06.560Z"
   },
   {
    "duration": 44,
    "start_time": "2022-11-08T03:33:12.145Z"
   },
   {
    "duration": 45,
    "start_time": "2022-11-08T03:33:37.613Z"
   },
   {
    "duration": 6,
    "start_time": "2022-11-08T03:33:46.401Z"
   },
   {
    "duration": 45,
    "start_time": "2022-11-08T03:36:21.237Z"
   },
   {
    "duration": 7,
    "start_time": "2022-11-08T03:36:28.079Z"
   },
   {
    "duration": 52,
    "start_time": "2022-11-08T03:36:52.348Z"
   },
   {
    "duration": 8,
    "start_time": "2022-11-08T03:38:19.886Z"
   },
   {
    "duration": 2,
    "start_time": "2022-11-08T03:41:49.457Z"
   },
   {
    "duration": 20,
    "start_time": "2022-11-08T03:41:49.963Z"
   },
   {
    "duration": 9,
    "start_time": "2022-11-08T03:41:50.616Z"
   },
   {
    "duration": 3,
    "start_time": "2022-11-08T03:42:01.907Z"
   },
   {
    "duration": 20,
    "start_time": "2022-11-08T03:42:02.530Z"
   },
   {
    "duration": 10,
    "start_time": "2022-11-08T03:42:03.473Z"
   },
   {
    "duration": 8,
    "start_time": "2022-11-08T03:48:17.603Z"
   },
   {
    "duration": 8,
    "start_time": "2022-11-08T03:48:50.672Z"
   },
   {
    "duration": 8,
    "start_time": "2022-11-08T03:49:12.744Z"
   },
   {
    "duration": 9,
    "start_time": "2022-11-08T03:49:42.233Z"
   },
   {
    "duration": 6,
    "start_time": "2022-11-08T03:57:44.633Z"
   },
   {
    "duration": 44,
    "start_time": "2022-11-08T04:06:10.634Z"
   },
   {
    "duration": 48,
    "start_time": "2022-11-08T04:06:36.115Z"
   },
   {
    "duration": 59,
    "start_time": "2022-11-08T04:06:47.078Z"
   },
   {
    "duration": 63,
    "start_time": "2022-11-08T04:07:03.905Z"
   },
   {
    "duration": 48,
    "start_time": "2022-11-08T04:12:56.372Z"
   },
   {
    "duration": 52,
    "start_time": "2022-11-08T04:16:24.674Z"
   },
   {
    "duration": 57,
    "start_time": "2022-11-08T04:16:39.738Z"
   },
   {
    "duration": 45,
    "start_time": "2022-11-08T04:16:48.949Z"
   },
   {
    "duration": 48,
    "start_time": "2022-11-08T04:17:07.245Z"
   },
   {
    "duration": 44,
    "start_time": "2022-11-08T04:17:39.839Z"
   },
   {
    "duration": 48,
    "start_time": "2022-11-08T04:17:48.012Z"
   },
   {
    "duration": 55,
    "start_time": "2022-11-08T04:18:00.587Z"
   },
   {
    "duration": 46,
    "start_time": "2022-11-08T04:18:28.348Z"
   },
   {
    "duration": 46,
    "start_time": "2022-11-08T04:18:36.882Z"
   },
   {
    "duration": 67,
    "start_time": "2022-11-08T04:19:06.751Z"
   },
   {
    "duration": 15,
    "start_time": "2022-11-08T04:19:07.798Z"
   },
   {
    "duration": 13,
    "start_time": "2022-11-08T04:19:08.786Z"
   },
   {
    "duration": 10,
    "start_time": "2022-11-08T04:19:11.270Z"
   },
   {
    "duration": 31,
    "start_time": "2022-11-08T04:19:12.210Z"
   },
   {
    "duration": 3,
    "start_time": "2022-11-08T04:19:13.916Z"
   },
   {
    "duration": 8,
    "start_time": "2022-11-08T04:19:14.754Z"
   },
   {
    "duration": 4,
    "start_time": "2022-11-08T04:19:16.659Z"
   },
   {
    "duration": 5,
    "start_time": "2022-11-08T04:19:17.320Z"
   },
   {
    "duration": 4,
    "start_time": "2022-11-08T04:19:17.877Z"
   },
   {
    "duration": 32,
    "start_time": "2022-11-08T04:19:20.392Z"
   },
   {
    "duration": 10,
    "start_time": "2022-11-08T04:19:21.114Z"
   },
   {
    "duration": 4,
    "start_time": "2022-11-08T04:19:22.508Z"
   },
   {
    "duration": 10,
    "start_time": "2022-11-08T04:19:24.094Z"
   },
   {
    "duration": 22,
    "start_time": "2022-11-08T04:19:25.206Z"
   },
   {
    "duration": 18,
    "start_time": "2022-11-08T04:19:25.595Z"
   },
   {
    "duration": 3,
    "start_time": "2022-11-08T04:19:28.263Z"
   },
   {
    "duration": 9,
    "start_time": "2022-11-08T04:19:28.731Z"
   },
   {
    "duration": 6,
    "start_time": "2022-11-08T04:19:29.566Z"
   },
   {
    "duration": 3,
    "start_time": "2022-11-08T04:19:31.009Z"
   },
   {
    "duration": 9,
    "start_time": "2022-11-08T04:19:31.471Z"
   },
   {
    "duration": 2,
    "start_time": "2022-11-08T04:19:34.693Z"
   },
   {
    "duration": 29,
    "start_time": "2022-11-08T04:19:35.228Z"
   },
   {
    "duration": 9,
    "start_time": "2022-11-08T04:19:35.779Z"
   },
   {
    "duration": 50,
    "start_time": "2022-11-08T04:19:36.323Z"
   },
   {
    "duration": 71,
    "start_time": "2022-11-08T04:20:27.203Z"
   },
   {
    "duration": 14,
    "start_time": "2022-11-08T04:20:28.168Z"
   },
   {
    "duration": 64,
    "start_time": "2022-11-08T04:20:42.463Z"
   },
   {
    "duration": 19,
    "start_time": "2022-11-08T04:23:03.120Z"
   },
   {
    "duration": 8,
    "start_time": "2022-11-08T04:23:20.499Z"
   },
   {
    "duration": 4,
    "start_time": "2022-11-08T04:23:27.953Z"
   },
   {
    "duration": 23,
    "start_time": "2022-11-08T04:23:40.606Z"
   },
   {
    "duration": 8,
    "start_time": "2022-11-08T04:24:14.606Z"
   },
   {
    "duration": 8,
    "start_time": "2022-11-08T04:24:59.005Z"
   },
   {
    "duration": 64,
    "start_time": "2022-11-08T04:25:06.760Z"
   },
   {
    "duration": 14,
    "start_time": "2022-11-08T04:25:07.759Z"
   },
   {
    "duration": 13,
    "start_time": "2022-11-08T04:25:08.722Z"
   },
   {
    "duration": 9,
    "start_time": "2022-11-08T04:25:10.664Z"
   },
   {
    "duration": 30,
    "start_time": "2022-11-08T04:25:11.642Z"
   },
   {
    "duration": 4,
    "start_time": "2022-11-08T04:25:13.122Z"
   },
   {
    "duration": 8,
    "start_time": "2022-11-08T04:25:14.129Z"
   },
   {
    "duration": 4,
    "start_time": "2022-11-08T04:25:15.737Z"
   },
   {
    "duration": 6,
    "start_time": "2022-11-08T04:25:16.765Z"
   },
   {
    "duration": 4,
    "start_time": "2022-11-08T04:25:17.761Z"
   },
   {
    "duration": 30,
    "start_time": "2022-11-08T04:25:19.206Z"
   },
   {
    "duration": 9,
    "start_time": "2022-11-08T04:25:20.195Z"
   },
   {
    "duration": 4,
    "start_time": "2022-11-08T04:25:21.645Z"
   },
   {
    "duration": 10,
    "start_time": "2022-11-08T04:25:23.021Z"
   },
   {
    "duration": 18,
    "start_time": "2022-11-08T04:25:23.960Z"
   },
   {
    "duration": 17,
    "start_time": "2022-11-08T04:25:24.420Z"
   },
   {
    "duration": 3,
    "start_time": "2022-11-08T04:25:25.827Z"
   },
   {
    "duration": 9,
    "start_time": "2022-11-08T04:25:26.324Z"
   },
   {
    "duration": 5,
    "start_time": "2022-11-08T04:25:27.345Z"
   },
   {
    "duration": 3,
    "start_time": "2022-11-08T04:25:28.366Z"
   },
   {
    "duration": 8,
    "start_time": "2022-11-08T04:25:28.840Z"
   },
   {
    "duration": 2,
    "start_time": "2022-11-08T04:25:30.303Z"
   },
   {
    "duration": 21,
    "start_time": "2022-11-08T04:25:30.802Z"
   },
   {
    "duration": 10,
    "start_time": "2022-11-08T04:25:31.285Z"
   },
   {
    "duration": 49,
    "start_time": "2022-11-08T21:48:33.702Z"
   },
   {
    "duration": 7,
    "start_time": "2022-11-08T21:49:05.307Z"
   },
   {
    "duration": 9,
    "start_time": "2022-11-08T21:49:08.694Z"
   },
   {
    "duration": 484,
    "start_time": "2022-11-08T21:51:42.977Z"
   },
   {
    "duration": 23,
    "start_time": "2022-11-08T21:51:43.958Z"
   },
   {
    "duration": 15,
    "start_time": "2022-11-08T21:51:44.831Z"
   },
   {
    "duration": 10,
    "start_time": "2022-11-08T21:51:46.456Z"
   },
   {
    "duration": 37,
    "start_time": "2022-11-08T21:51:47.257Z"
   },
   {
    "duration": 3,
    "start_time": "2022-11-08T21:51:48.294Z"
   },
   {
    "duration": 8,
    "start_time": "2022-11-08T21:51:48.959Z"
   },
   {
    "duration": 4,
    "start_time": "2022-11-08T21:51:50.041Z"
   },
   {
    "duration": 6,
    "start_time": "2022-11-08T21:51:50.738Z"
   },
   {
    "duration": 5,
    "start_time": "2022-11-08T21:51:51.354Z"
   },
   {
    "duration": 35,
    "start_time": "2022-11-08T21:51:52.291Z"
   },
   {
    "duration": 11,
    "start_time": "2022-11-08T21:51:53.245Z"
   },
   {
    "duration": 4,
    "start_time": "2022-11-08T21:51:54.284Z"
   },
   {
    "duration": 13,
    "start_time": "2022-11-08T21:51:55.315Z"
   },
   {
    "duration": 20,
    "start_time": "2022-11-08T21:51:56.008Z"
   },
   {
    "duration": 17,
    "start_time": "2022-11-08T21:51:56.334Z"
   },
   {
    "duration": 4,
    "start_time": "2022-11-08T21:51:57.448Z"
   },
   {
    "duration": 11,
    "start_time": "2022-11-08T21:51:57.863Z"
   },
   {
    "duration": 6,
    "start_time": "2022-11-08T21:51:58.650Z"
   },
   {
    "duration": 4,
    "start_time": "2022-11-08T21:51:59.437Z"
   },
   {
    "duration": 8,
    "start_time": "2022-11-08T21:51:59.902Z"
   },
   {
    "duration": 3,
    "start_time": "2022-11-08T21:52:01.120Z"
   },
   {
    "duration": 25,
    "start_time": "2022-11-08T21:52:01.526Z"
   },
   {
    "duration": 9,
    "start_time": "2022-11-08T21:52:01.888Z"
   },
   {
    "duration": 27,
    "start_time": "2022-11-08T21:52:03.844Z"
   },
   {
    "duration": 7,
    "start_time": "2022-11-08T21:52:04.442Z"
   },
   {
    "duration": 10,
    "start_time": "2022-11-08T21:52:05.088Z"
   },
   {
    "duration": 9,
    "start_time": "2022-11-09T06:44:28.601Z"
   },
   {
    "duration": 25,
    "start_time": "2022-11-09T06:46:27.676Z"
   },
   {
    "duration": 9,
    "start_time": "2022-11-09T06:47:29.207Z"
   },
   {
    "duration": 21,
    "start_time": "2022-11-09T06:48:08.515Z"
   },
   {
    "duration": 10,
    "start_time": "2022-11-09T06:48:09.685Z"
   },
   {
    "duration": 27,
    "start_time": "2022-11-09T06:50:30.715Z"
   },
   {
    "duration": 10,
    "start_time": "2022-11-09T06:50:32.098Z"
   },
   {
    "duration": 8,
    "start_time": "2022-11-09T06:51:05.116Z"
   },
   {
    "duration": 94,
    "start_time": "2022-11-09T06:58:46.024Z"
   },
   {
    "duration": 37,
    "start_time": "2022-11-09T07:04:20.572Z"
   },
   {
    "duration": 11,
    "start_time": "2022-11-09T07:04:21.043Z"
   },
   {
    "duration": 10,
    "start_time": "2022-11-09T07:10:27.611Z"
   },
   {
    "duration": 1601,
    "start_time": "2022-11-09T07:12:51.480Z"
   },
   {
    "duration": 35,
    "start_time": "2022-11-09T07:12:53.083Z"
   },
   {
    "duration": 1525,
    "start_time": "2022-11-09T07:17:27.543Z"
   },
   {
    "duration": 18,
    "start_time": "2022-11-09T07:19:26.418Z"
   },
   {
    "duration": 26,
    "start_time": "2022-11-09T07:19:27.005Z"
   },
   {
    "duration": 8,
    "start_time": "2022-11-09T07:19:36.739Z"
   },
   {
    "duration": 13,
    "start_time": "2022-11-09T07:19:38.139Z"
   },
   {
    "duration": 13,
    "start_time": "2022-11-09T07:20:02.203Z"
   },
   {
    "duration": 38,
    "start_time": "2022-11-09T07:20:03.359Z"
   },
   {
    "duration": 10,
    "start_time": "2022-11-09T07:20:04.237Z"
   },
   {
    "duration": 40,
    "start_time": "2022-11-09T07:24:37.463Z"
   },
   {
    "duration": 11,
    "start_time": "2022-11-09T07:24:38.157Z"
   },
   {
    "duration": 28,
    "start_time": "2022-11-09T07:25:44.604Z"
   },
   {
    "duration": 12,
    "start_time": "2022-11-09T07:25:45.233Z"
   },
   {
    "duration": 4,
    "start_time": "2022-11-09T20:05:38.685Z"
   },
   {
    "duration": 66,
    "start_time": "2022-11-09T20:05:57.447Z"
   },
   {
    "duration": 695,
    "start_time": "2022-11-09T20:08:31.069Z"
   },
   {
    "duration": 21,
    "start_time": "2022-11-09T20:08:31.765Z"
   },
   {
    "duration": 14,
    "start_time": "2022-11-09T20:08:32.397Z"
   },
   {
    "duration": 12,
    "start_time": "2022-11-09T20:08:33.718Z"
   },
   {
    "duration": 34,
    "start_time": "2022-11-09T20:08:34.449Z"
   },
   {
    "duration": 4,
    "start_time": "2022-11-09T20:08:35.485Z"
   },
   {
    "duration": 10,
    "start_time": "2022-11-09T20:08:38.669Z"
   },
   {
    "duration": 5,
    "start_time": "2022-11-09T20:08:39.926Z"
   },
   {
    "duration": 8,
    "start_time": "2022-11-09T20:08:40.757Z"
   },
   {
    "duration": 6,
    "start_time": "2022-11-09T20:08:41.603Z"
   },
   {
    "duration": 33,
    "start_time": "2022-11-09T20:08:42.849Z"
   },
   {
    "duration": 13,
    "start_time": "2022-11-09T20:08:43.670Z"
   },
   {
    "duration": 5,
    "start_time": "2022-11-09T20:08:45.290Z"
   },
   {
    "duration": 15,
    "start_time": "2022-11-09T20:08:46.477Z"
   },
   {
    "duration": 20,
    "start_time": "2022-11-09T20:08:49.103Z"
   },
   {
    "duration": 17,
    "start_time": "2022-11-09T20:08:49.984Z"
   },
   {
    "duration": 4,
    "start_time": "2022-11-09T20:08:51.198Z"
   },
   {
    "duration": 11,
    "start_time": "2022-11-09T20:08:51.649Z"
   },
   {
    "duration": 6,
    "start_time": "2022-11-09T20:08:52.972Z"
   },
   {
    "duration": 4,
    "start_time": "2022-11-09T20:08:53.900Z"
   },
   {
    "duration": 9,
    "start_time": "2022-11-09T20:08:54.340Z"
   },
   {
    "duration": 4,
    "start_time": "2022-11-09T20:08:56.128Z"
   },
   {
    "duration": 2,
    "start_time": "2022-11-09T20:08:57.043Z"
   },
   {
    "duration": 37,
    "start_time": "2022-11-09T20:08:57.524Z"
   },
   {
    "duration": 9,
    "start_time": "2022-11-09T20:08:57.952Z"
   },
   {
    "duration": 33,
    "start_time": "2022-11-09T20:10:38.145Z"
   },
   {
    "duration": 16,
    "start_time": "2022-11-09T20:10:39.983Z"
   },
   {
    "duration": 14,
    "start_time": "2022-11-09T20:10:56.388Z"
   },
   {
    "duration": 46,
    "start_time": "2022-11-09T20:18:28.545Z"
   },
   {
    "duration": 27,
    "start_time": "2022-11-09T20:19:02.789Z"
   },
   {
    "duration": 59,
    "start_time": "2022-11-09T20:36:06.276Z"
   },
   {
    "duration": 24,
    "start_time": "2022-11-09T20:36:23.867Z"
   },
   {
    "duration": 62,
    "start_time": "2022-11-09T21:19:16.418Z"
   },
   {
    "duration": 7,
    "start_time": "2022-11-09T21:19:25.635Z"
   },
   {
    "duration": 44,
    "start_time": "2022-11-09T21:40:56.286Z"
   },
   {
    "duration": 45,
    "start_time": "2022-11-09T21:40:58.829Z"
   },
   {
    "duration": 49,
    "start_time": "2022-11-09T21:41:12.668Z"
   },
   {
    "duration": 51,
    "start_time": "2022-11-09T21:42:10.984Z"
   },
   {
    "duration": 12,
    "start_time": "2022-11-09T21:42:57.879Z"
   },
   {
    "duration": 45,
    "start_time": "2022-11-09T21:43:38.483Z"
   },
   {
    "duration": 11,
    "start_time": "2022-11-09T21:44:07.267Z"
   },
   {
    "duration": 26,
    "start_time": "2022-11-09T21:44:38.828Z"
   },
   {
    "duration": 9,
    "start_time": "2022-11-09T21:44:39.519Z"
   },
   {
    "duration": 25,
    "start_time": "2022-11-09T21:45:00.582Z"
   },
   {
    "duration": 11,
    "start_time": "2022-11-09T21:45:01.523Z"
   },
   {
    "duration": 46,
    "start_time": "2022-11-09T21:45:12.865Z"
   },
   {
    "duration": 74,
    "start_time": "2022-11-09T21:45:21.864Z"
   },
   {
    "duration": 23,
    "start_time": "2022-11-09T21:45:23.573Z"
   },
   {
    "duration": 16,
    "start_time": "2022-11-09T21:45:24.685Z"
   },
   {
    "duration": 10,
    "start_time": "2022-11-09T21:45:26.736Z"
   },
   {
    "duration": 50,
    "start_time": "2022-11-09T21:45:27.711Z"
   },
   {
    "duration": 7,
    "start_time": "2022-11-09T21:45:29.138Z"
   },
   {
    "duration": 11,
    "start_time": "2022-11-09T21:45:30.073Z"
   },
   {
    "duration": 5,
    "start_time": "2022-11-09T21:45:31.443Z"
   },
   {
    "duration": 5,
    "start_time": "2022-11-09T21:45:32.324Z"
   },
   {
    "duration": 6,
    "start_time": "2022-11-09T21:45:33.200Z"
   },
   {
    "duration": 57,
    "start_time": "2022-11-09T21:45:34.547Z"
   },
   {
    "duration": 14,
    "start_time": "2022-11-09T21:45:35.438Z"
   },
   {
    "duration": 4,
    "start_time": "2022-11-09T21:45:39.991Z"
   },
   {
    "duration": 11,
    "start_time": "2022-11-09T21:45:41.350Z"
   },
   {
    "duration": 17,
    "start_time": "2022-11-09T21:45:42.252Z"
   },
   {
    "duration": 28,
    "start_time": "2022-11-09T21:45:42.738Z"
   },
   {
    "duration": 4,
    "start_time": "2022-11-09T21:45:44.145Z"
   },
   {
    "duration": 9,
    "start_time": "2022-11-09T21:45:44.692Z"
   },
   {
    "duration": 6,
    "start_time": "2022-11-09T21:45:45.705Z"
   },
   {
    "duration": 5,
    "start_time": "2022-11-09T21:45:46.726Z"
   },
   {
    "duration": 9,
    "start_time": "2022-11-09T21:45:47.269Z"
   },
   {
    "duration": 3,
    "start_time": "2022-11-09T21:45:49.158Z"
   },
   {
    "duration": 4,
    "start_time": "2022-11-09T21:45:49.640Z"
   },
   {
    "duration": 24,
    "start_time": "2022-11-09T21:45:50.169Z"
   },
   {
    "duration": 10,
    "start_time": "2022-11-09T21:45:50.675Z"
   },
   {
    "duration": 23,
    "start_time": "2022-11-09T21:46:23.082Z"
   },
   {
    "duration": 24,
    "start_time": "2022-11-09T21:46:26.820Z"
   },
   {
    "duration": 9,
    "start_time": "2022-11-09T21:47:13.669Z"
   },
   {
    "duration": 9,
    "start_time": "2022-11-09T21:47:18.645Z"
   },
   {
    "duration": 17,
    "start_time": "2022-11-09T21:55:49.798Z"
   },
   {
    "duration": 9,
    "start_time": "2022-11-09T21:55:50.550Z"
   },
   {
    "duration": 19,
    "start_time": "2022-11-09T21:57:11.032Z"
   },
   {
    "duration": 19,
    "start_time": "2022-11-09T21:57:24.825Z"
   },
   {
    "duration": 10,
    "start_time": "2022-11-09T21:57:25.091Z"
   },
   {
    "duration": 3,
    "start_time": "2022-11-09T21:57:27.964Z"
   },
   {
    "duration": 3,
    "start_time": "2022-11-09T21:57:28.265Z"
   },
   {
    "duration": 19,
    "start_time": "2022-11-09T21:57:28.490Z"
   },
   {
    "duration": 9,
    "start_time": "2022-11-09T21:57:28.730Z"
   },
   {
    "duration": 86,
    "start_time": "2022-11-09T21:57:35.428Z"
   },
   {
    "duration": 15,
    "start_time": "2022-11-09T21:57:36.671Z"
   },
   {
    "duration": 14,
    "start_time": "2022-11-09T21:57:37.723Z"
   },
   {
    "duration": 9,
    "start_time": "2022-11-09T21:57:39.732Z"
   },
   {
    "duration": 32,
    "start_time": "2022-11-09T21:57:40.694Z"
   },
   {
    "duration": 4,
    "start_time": "2022-11-09T21:57:42.113Z"
   },
   {
    "duration": 10,
    "start_time": "2022-11-09T21:57:43.025Z"
   },
   {
    "duration": 5,
    "start_time": "2022-11-09T21:57:44.368Z"
   },
   {
    "duration": 6,
    "start_time": "2022-11-09T21:57:45.265Z"
   },
   {
    "duration": 5,
    "start_time": "2022-11-09T21:57:46.130Z"
   },
   {
    "duration": 35,
    "start_time": "2022-11-09T21:57:47.440Z"
   },
   {
    "duration": 9,
    "start_time": "2022-11-09T21:57:48.281Z"
   },
   {
    "duration": 3,
    "start_time": "2022-11-09T21:57:49.652Z"
   },
   {
    "duration": 10,
    "start_time": "2022-11-09T21:57:50.938Z"
   },
   {
    "duration": 24,
    "start_time": "2022-11-09T21:57:51.850Z"
   },
   {
    "duration": 17,
    "start_time": "2022-11-09T21:57:52.321Z"
   },
   {
    "duration": 5,
    "start_time": "2022-11-09T21:57:53.694Z"
   },
   {
    "duration": 10,
    "start_time": "2022-11-09T21:57:54.117Z"
   },
   {
    "duration": 6,
    "start_time": "2022-11-09T21:57:55.045Z"
   },
   {
    "duration": 4,
    "start_time": "2022-11-09T21:57:55.941Z"
   },
   {
    "duration": 8,
    "start_time": "2022-11-09T21:57:56.437Z"
   },
   {
    "duration": 3,
    "start_time": "2022-11-09T21:58:03.780Z"
   },
   {
    "duration": 3,
    "start_time": "2022-11-09T21:58:04.314Z"
   },
   {
    "duration": 23,
    "start_time": "2022-11-09T21:58:04.828Z"
   },
   {
    "duration": 11,
    "start_time": "2022-11-09T21:58:05.977Z"
   },
   {
    "duration": 8,
    "start_time": "2022-11-09T22:43:44.096Z"
   },
   {
    "duration": 9,
    "start_time": "2022-11-09T22:43:52.688Z"
   },
   {
    "duration": 52,
    "start_time": "2022-11-09T22:44:25.823Z"
   },
   {
    "duration": 6,
    "start_time": "2022-11-09T22:46:26.242Z"
   },
   {
    "duration": 22,
    "start_time": "2022-11-09T22:46:36.246Z"
   },
   {
    "duration": 9,
    "start_time": "2022-11-09T22:46:44.295Z"
   },
   {
    "duration": 9,
    "start_time": "2022-11-09T22:47:21.304Z"
   },
   {
    "duration": 44,
    "start_time": "2022-11-09T22:47:52.313Z"
   },
   {
    "duration": 43,
    "start_time": "2022-11-09T22:47:55.568Z"
   },
   {
    "duration": 46,
    "start_time": "2022-11-09T22:52:11.336Z"
   },
   {
    "duration": 51,
    "start_time": "2022-11-10T18:19:12.435Z"
   },
   {
    "duration": 42,
    "start_time": "2022-11-10T18:19:17.658Z"
   },
   {
    "duration": 67,
    "start_time": "2022-11-10T18:19:34.432Z"
   },
   {
    "duration": 3,
    "start_time": "2022-11-10T20:57:52.959Z"
   },
   {
    "duration": 62,
    "start_time": "2022-11-11T13:11:05.573Z"
   },
   {
    "duration": 44,
    "start_time": "2022-11-11T13:11:30.417Z"
   },
   {
    "duration": 47,
    "start_time": "2022-11-11T13:12:05.246Z"
   },
   {
    "duration": 45,
    "start_time": "2022-11-11T13:12:25.839Z"
   },
   {
    "duration": 59,
    "start_time": "2022-11-11T13:12:51.398Z"
   },
   {
    "duration": 48,
    "start_time": "2022-11-11T13:13:25.068Z"
   },
   {
    "duration": 5,
    "start_time": "2022-11-11T13:13:35.242Z"
   },
   {
    "duration": 6,
    "start_time": "2022-11-11T13:13:55.569Z"
   },
   {
    "duration": 738,
    "start_time": "2022-11-11T13:14:17.885Z"
   },
   {
    "duration": 22,
    "start_time": "2022-11-11T13:14:18.764Z"
   },
   {
    "duration": 16,
    "start_time": "2022-11-11T13:14:19.555Z"
   },
   {
    "duration": 11,
    "start_time": "2022-11-11T13:14:21.163Z"
   },
   {
    "duration": 32,
    "start_time": "2022-11-11T13:14:21.960Z"
   },
   {
    "duration": 3,
    "start_time": "2022-11-11T13:14:23.088Z"
   },
   {
    "duration": 8,
    "start_time": "2022-11-11T13:14:24.235Z"
   },
   {
    "duration": 4,
    "start_time": "2022-11-11T13:14:25.362Z"
   },
   {
    "duration": 7,
    "start_time": "2022-11-11T13:14:26.123Z"
   },
   {
    "duration": 4,
    "start_time": "2022-11-11T13:14:27.235Z"
   },
   {
    "duration": 35,
    "start_time": "2022-11-11T13:14:28.364Z"
   },
   {
    "duration": 10,
    "start_time": "2022-11-11T13:14:29.055Z"
   },
   {
    "duration": 4,
    "start_time": "2022-11-11T13:14:30.187Z"
   },
   {
    "duration": 11,
    "start_time": "2022-11-11T13:14:32.058Z"
   },
   {
    "duration": 21,
    "start_time": "2022-11-11T13:14:32.821Z"
   },
   {
    "duration": 17,
    "start_time": "2022-11-11T13:14:33.599Z"
   },
   {
    "duration": 4,
    "start_time": "2022-11-11T13:14:34.685Z"
   },
   {
    "duration": 12,
    "start_time": "2022-11-11T13:14:36.604Z"
   },
   {
    "duration": 6,
    "start_time": "2022-11-11T13:14:37.787Z"
   },
   {
    "duration": 4,
    "start_time": "2022-11-11T13:14:41.056Z"
   },
   {
    "duration": 8,
    "start_time": "2022-11-11T13:14:42.350Z"
   },
   {
    "duration": 2,
    "start_time": "2022-11-11T13:14:43.921Z"
   },
   {
    "duration": 2,
    "start_time": "2022-11-11T13:14:44.397Z"
   },
   {
    "duration": 25,
    "start_time": "2022-11-11T13:14:45.688Z"
   },
   {
    "duration": 22,
    "start_time": "2022-11-11T13:15:33.446Z"
   },
   {
    "duration": 7,
    "start_time": "2022-11-11T13:15:34.203Z"
   },
   {
    "duration": 32,
    "start_time": "2022-11-11T13:17:20.355Z"
   },
   {
    "duration": 8,
    "start_time": "2022-11-11T13:17:21.428Z"
   },
   {
    "duration": 18,
    "start_time": "2022-11-11T13:17:36.582Z"
   },
   {
    "duration": 7,
    "start_time": "2022-11-11T13:17:38.089Z"
   },
   {
    "duration": 20,
    "start_time": "2022-11-11T13:21:32.042Z"
   },
   {
    "duration": 9,
    "start_time": "2022-11-11T13:21:32.683Z"
   },
   {
    "duration": 19,
    "start_time": "2022-11-11T13:26:25.784Z"
   },
   {
    "duration": 9,
    "start_time": "2022-11-11T13:26:26.373Z"
   },
   {
    "duration": 55,
    "start_time": "2022-11-11T13:40:11.573Z"
   },
   {
    "duration": 10,
    "start_time": "2022-11-11T13:40:25.575Z"
   },
   {
    "duration": 7,
    "start_time": "2022-11-11T13:44:14.203Z"
   },
   {
    "duration": 21,
    "start_time": "2022-11-11T13:44:26.806Z"
   },
   {
    "duration": 2,
    "start_time": "2022-11-11T13:59:33.826Z"
   },
   {
    "duration": 55,
    "start_time": "2022-11-11T14:02:04.668Z"
   },
   {
    "duration": 47,
    "start_time": "2022-11-11T14:02:09.417Z"
   },
   {
    "duration": 9,
    "start_time": "2022-11-11T14:02:51.524Z"
   },
   {
    "duration": 9,
    "start_time": "2022-11-11T14:03:54.467Z"
   },
   {
    "duration": 8,
    "start_time": "2022-11-11T14:04:00.604Z"
   },
   {
    "duration": 6,
    "start_time": "2022-11-11T14:04:58.787Z"
   },
   {
    "duration": 21,
    "start_time": "2022-11-11T14:05:13.077Z"
   },
   {
    "duration": 27,
    "start_time": "2022-11-11T14:05:25.427Z"
   },
   {
    "duration": 20,
    "start_time": "2022-11-11T14:14:43.618Z"
   },
   {
    "duration": 4,
    "start_time": "2022-11-11T14:15:01.340Z"
   },
   {
    "duration": 5,
    "start_time": "2022-11-11T17:03:01.166Z"
   },
   {
    "duration": 4,
    "start_time": "2022-11-11T17:03:46.564Z"
   },
   {
    "duration": 5,
    "start_time": "2022-11-11T17:03:49.088Z"
   },
   {
    "duration": 2,
    "start_time": "2022-11-11T17:04:11.333Z"
   },
   {
    "duration": 4,
    "start_time": "2022-11-11T17:04:11.924Z"
   },
   {
    "duration": 4,
    "start_time": "2022-11-11T17:04:26.639Z"
   },
   {
    "duration": 71,
    "start_time": "2022-11-11T17:04:44.345Z"
   },
   {
    "duration": 15,
    "start_time": "2022-11-11T17:04:45.576Z"
   },
   {
    "duration": 16,
    "start_time": "2022-11-11T17:04:46.679Z"
   },
   {
    "duration": 9,
    "start_time": "2022-11-11T17:04:48.575Z"
   },
   {
    "duration": 35,
    "start_time": "2022-11-11T17:04:49.441Z"
   },
   {
    "duration": 4,
    "start_time": "2022-11-11T17:04:52.181Z"
   },
   {
    "duration": 8,
    "start_time": "2022-11-11T17:04:53.082Z"
   },
   {
    "duration": 4,
    "start_time": "2022-11-11T17:04:54.441Z"
   },
   {
    "duration": 5,
    "start_time": "2022-11-11T17:04:55.308Z"
   },
   {
    "duration": 5,
    "start_time": "2022-11-11T17:04:56.112Z"
   },
   {
    "duration": 35,
    "start_time": "2022-11-11T17:04:58.332Z"
   },
   {
    "duration": 11,
    "start_time": "2022-11-11T17:04:59.217Z"
   },
   {
    "duration": 4,
    "start_time": "2022-11-11T17:05:00.567Z"
   },
   {
    "duration": 11,
    "start_time": "2022-11-11T17:05:01.824Z"
   },
   {
    "duration": 20,
    "start_time": "2022-11-11T17:05:02.631Z"
   },
   {
    "duration": 17,
    "start_time": "2022-11-11T17:05:03.069Z"
   },
   {
    "duration": 3,
    "start_time": "2022-11-11T17:05:04.343Z"
   },
   {
    "duration": 10,
    "start_time": "2022-11-11T17:05:04.868Z"
   },
   {
    "duration": 6,
    "start_time": "2022-11-11T17:05:05.757Z"
   },
   {
    "duration": 4,
    "start_time": "2022-11-11T17:05:06.667Z"
   },
   {
    "duration": 8,
    "start_time": "2022-11-11T17:05:07.142Z"
   },
   {
    "duration": 2,
    "start_time": "2022-11-11T17:05:08.960Z"
   },
   {
    "duration": 2,
    "start_time": "2022-11-11T17:05:09.373Z"
   },
   {
    "duration": 5,
    "start_time": "2022-11-11T17:05:09.758Z"
   },
   {
    "duration": 4,
    "start_time": "2022-11-11T17:05:10.353Z"
   },
   {
    "duration": 6,
    "start_time": "2022-11-11T17:05:20.134Z"
   },
   {
    "duration": 5,
    "start_time": "2022-11-11T17:05:23.644Z"
   },
   {
    "duration": 54,
    "start_time": "2022-11-11T17:05:38.071Z"
   },
   {
    "duration": 42,
    "start_time": "2022-11-11T17:05:42.144Z"
   },
   {
    "duration": 4,
    "start_time": "2022-11-11T17:05:47.410Z"
   },
   {
    "duration": 5,
    "start_time": "2022-11-11T17:05:54.071Z"
   },
   {
    "duration": 5,
    "start_time": "2022-11-11T17:07:07.939Z"
   },
   {
    "duration": 5,
    "start_time": "2022-11-11T17:07:21.686Z"
   },
   {
    "duration": 4,
    "start_time": "2022-11-11T17:07:22.265Z"
   },
   {
    "duration": 2,
    "start_time": "2022-11-11T17:07:25.199Z"
   },
   {
    "duration": 4,
    "start_time": "2022-11-11T17:07:25.640Z"
   },
   {
    "duration": 2,
    "start_time": "2022-11-11T17:07:28.325Z"
   },
   {
    "duration": 2,
    "start_time": "2022-11-11T17:07:28.730Z"
   },
   {
    "duration": 5,
    "start_time": "2022-11-11T17:07:29.175Z"
   },
   {
    "duration": 35,
    "start_time": "2022-11-11T17:08:20.683Z"
   },
   {
    "duration": 60,
    "start_time": "2022-11-11T17:17:46.427Z"
   },
   {
    "duration": 11,
    "start_time": "2022-11-11T17:17:51.043Z"
   },
   {
    "duration": 23,
    "start_time": "2022-11-11T17:19:13.411Z"
   },
   {
    "duration": 28,
    "start_time": "2022-11-11T17:19:20.709Z"
   },
   {
    "duration": 10,
    "start_time": "2022-11-11T17:20:01.542Z"
   },
   {
    "duration": 2,
    "start_time": "2022-11-11T17:20:06.417Z"
   },
   {
    "duration": 9,
    "start_time": "2022-11-11T17:20:07.162Z"
   },
   {
    "duration": 30,
    "start_time": "2022-11-11T17:20:25.328Z"
   },
   {
    "duration": 10,
    "start_time": "2022-11-11T17:20:42.290Z"
   },
   {
    "duration": 15,
    "start_time": "2022-11-11T17:20:46.592Z"
   },
   {
    "duration": 14,
    "start_time": "2022-11-11T17:20:51.345Z"
   },
   {
    "duration": 2,
    "start_time": "2022-11-11T17:20:55.919Z"
   },
   {
    "duration": 8,
    "start_time": "2022-11-11T17:20:56.583Z"
   },
   {
    "duration": 9,
    "start_time": "2022-11-11T17:21:24.193Z"
   },
   {
    "duration": 18,
    "start_time": "2022-11-11T17:21:28.137Z"
   },
   {
    "duration": 9,
    "start_time": "2022-11-11T17:21:42.010Z"
   },
   {
    "duration": 10,
    "start_time": "2022-11-11T17:21:59.052Z"
   },
   {
    "duration": 21,
    "start_time": "2022-11-11T17:22:00.076Z"
   },
   {
    "duration": 10,
    "start_time": "2022-11-11T17:22:30.728Z"
   },
   {
    "duration": 8,
    "start_time": "2022-11-11T17:22:32.896Z"
   },
   {
    "duration": 21,
    "start_time": "2022-11-11T17:23:15.282Z"
   },
   {
    "duration": 8,
    "start_time": "2022-11-11T17:23:29.488Z"
   },
   {
    "duration": 22,
    "start_time": "2022-11-11T17:23:50.155Z"
   },
   {
    "duration": 6,
    "start_time": "2022-11-11T17:24:17.125Z"
   },
   {
    "duration": 47,
    "start_time": "2022-11-11T17:24:40.295Z"
   },
   {
    "duration": 48,
    "start_time": "2022-11-11T17:24:51.342Z"
   },
   {
    "duration": 44,
    "start_time": "2022-11-11T17:25:00.144Z"
   },
   {
    "duration": 9,
    "start_time": "2022-11-11T17:25:09.056Z"
   },
   {
    "duration": 5,
    "start_time": "2022-11-11T17:25:22.870Z"
   },
   {
    "duration": 3,
    "start_time": "2022-11-11T17:26:30.617Z"
   },
   {
    "duration": 9,
    "start_time": "2022-11-11T17:26:37.212Z"
   },
   {
    "duration": 10,
    "start_time": "2022-11-11T17:26:43.207Z"
   },
   {
    "duration": 9,
    "start_time": "2022-11-11T17:26:51.460Z"
   },
   {
    "duration": 15,
    "start_time": "2022-11-11T17:27:40.031Z"
   },
   {
    "duration": 4,
    "start_time": "2022-11-11T17:27:49.679Z"
   },
   {
    "duration": 11,
    "start_time": "2022-11-11T17:27:53.325Z"
   },
   {
    "duration": 30,
    "start_time": "2022-11-11T17:31:19.323Z"
   },
   {
    "duration": 12,
    "start_time": "2022-11-11T17:31:21.551Z"
   },
   {
    "duration": 10,
    "start_time": "2022-11-11T17:31:27.705Z"
   },
   {
    "duration": 16,
    "start_time": "2022-11-11T17:31:32.538Z"
   },
   {
    "duration": 9,
    "start_time": "2022-11-11T17:43:37.918Z"
   },
   {
    "duration": 8,
    "start_time": "2022-11-11T17:43:41.007Z"
   },
   {
    "duration": 13,
    "start_time": "2022-11-11T17:43:42.756Z"
   },
   {
    "duration": 536,
    "start_time": "2022-11-11T17:44:06.145Z"
   },
   {
    "duration": 22,
    "start_time": "2022-11-11T17:44:06.684Z"
   },
   {
    "duration": 26,
    "start_time": "2022-11-11T17:44:06.707Z"
   },
   {
    "duration": 28,
    "start_time": "2022-11-11T17:44:06.737Z"
   },
   {
    "duration": 41,
    "start_time": "2022-11-11T17:44:06.767Z"
   },
   {
    "duration": 3,
    "start_time": "2022-11-11T17:44:06.810Z"
   },
   {
    "duration": 26,
    "start_time": "2022-11-11T17:44:06.814Z"
   },
   {
    "duration": 12,
    "start_time": "2022-11-11T17:44:06.842Z"
   },
   {
    "duration": 16,
    "start_time": "2022-11-11T17:44:06.857Z"
   },
   {
    "duration": 4,
    "start_time": "2022-11-11T17:44:06.877Z"
   },
   {
    "duration": 53,
    "start_time": "2022-11-11T17:44:06.883Z"
   },
   {
    "duration": 13,
    "start_time": "2022-11-11T17:44:06.938Z"
   },
   {
    "duration": 41,
    "start_time": "2022-11-11T17:44:06.953Z"
   },
   {
    "duration": 59,
    "start_time": "2022-11-11T17:44:06.996Z"
   },
   {
    "duration": 28,
    "start_time": "2022-11-11T17:44:07.058Z"
   },
   {
    "duration": 18,
    "start_time": "2022-11-11T17:44:07.088Z"
   },
   {
    "duration": 7,
    "start_time": "2022-11-11T17:44:07.108Z"
   },
   {
    "duration": 20,
    "start_time": "2022-11-11T17:44:07.117Z"
   },
   {
    "duration": 12,
    "start_time": "2022-11-11T17:44:07.139Z"
   },
   {
    "duration": 12,
    "start_time": "2022-11-11T17:44:07.154Z"
   },
   {
    "duration": 23,
    "start_time": "2022-11-11T17:44:07.168Z"
   },
   {
    "duration": 14,
    "start_time": "2022-11-11T17:44:07.192Z"
   },
   {
    "duration": 6,
    "start_time": "2022-11-11T17:44:07.208Z"
   },
   {
    "duration": 95,
    "start_time": "2022-11-11T17:44:07.216Z"
   },
   {
    "duration": 0,
    "start_time": "2022-11-11T17:44:07.313Z"
   },
   {
    "duration": 0,
    "start_time": "2022-11-11T17:44:07.314Z"
   },
   {
    "duration": 0,
    "start_time": "2022-11-11T17:44:07.315Z"
   },
   {
    "duration": 0,
    "start_time": "2022-11-11T17:44:07.316Z"
   },
   {
    "duration": 0,
    "start_time": "2022-11-11T17:44:07.317Z"
   },
   {
    "duration": 0,
    "start_time": "2022-11-11T17:44:07.318Z"
   },
   {
    "duration": 0,
    "start_time": "2022-11-11T17:44:07.319Z"
   },
   {
    "duration": 0,
    "start_time": "2022-11-11T17:44:07.321Z"
   },
   {
    "duration": 0,
    "start_time": "2022-11-11T17:44:07.321Z"
   },
   {
    "duration": 0,
    "start_time": "2022-11-11T17:44:07.322Z"
   },
   {
    "duration": 0,
    "start_time": "2022-11-11T17:44:07.324Z"
   },
   {
    "duration": 0,
    "start_time": "2022-11-11T17:44:07.337Z"
   },
   {
    "duration": 0,
    "start_time": "2022-11-11T17:44:07.343Z"
   },
   {
    "duration": 0,
    "start_time": "2022-11-11T17:44:07.345Z"
   },
   {
    "duration": 11,
    "start_time": "2022-11-11T17:44:26.833Z"
   },
   {
    "duration": 9,
    "start_time": "2022-11-11T17:44:51.842Z"
   },
   {
    "duration": 3,
    "start_time": "2022-11-11T17:44:58.158Z"
   },
   {
    "duration": 4,
    "start_time": "2022-11-11T17:45:01.201Z"
   },
   {
    "duration": 10,
    "start_time": "2022-11-11T17:45:03.069Z"
   },
   {
    "duration": 5,
    "start_time": "2022-11-11T17:45:52.701Z"
   },
   {
    "duration": 8,
    "start_time": "2022-11-11T17:45:57.216Z"
   },
   {
    "duration": 30,
    "start_time": "2022-11-11T17:46:01.921Z"
   },
   {
    "duration": 27,
    "start_time": "2022-11-11T17:55:05.872Z"
   },
   {
    "duration": 29,
    "start_time": "2022-11-11T17:55:40.848Z"
   },
   {
    "duration": 20,
    "start_time": "2022-11-11T17:56:07.630Z"
   },
   {
    "duration": 36,
    "start_time": "2022-11-11T17:59:16.788Z"
   },
   {
    "duration": 180,
    "start_time": "2022-11-11T18:00:11.173Z"
   },
   {
    "duration": 10,
    "start_time": "2022-11-11T18:00:15.479Z"
   },
   {
    "duration": 7,
    "start_time": "2022-11-11T18:00:19.749Z"
   },
   {
    "duration": 683,
    "start_time": "2022-11-11T18:00:57.061Z"
   },
   {
    "duration": 7,
    "start_time": "2022-11-11T18:01:21.081Z"
   },
   {
    "duration": 7,
    "start_time": "2022-11-11T18:01:30.511Z"
   },
   {
    "duration": 7,
    "start_time": "2022-11-11T18:01:46.239Z"
   },
   {
    "duration": 946,
    "start_time": "2022-11-11T18:02:16.727Z"
   },
   {
    "duration": 6,
    "start_time": "2022-11-11T18:02:39.174Z"
   },
   {
    "duration": 9,
    "start_time": "2022-11-11T18:17:20.485Z"
   },
   {
    "duration": 7,
    "start_time": "2022-11-11T18:17:28.943Z"
   },
   {
    "duration": 6,
    "start_time": "2022-11-11T18:20:16.617Z"
   },
   {
    "duration": 9,
    "start_time": "2022-11-11T18:20:23.676Z"
   },
   {
    "duration": 6,
    "start_time": "2022-11-11T18:20:24.604Z"
   },
   {
    "duration": 9,
    "start_time": "2022-11-11T18:22:08.997Z"
   },
   {
    "duration": 8,
    "start_time": "2022-11-11T18:27:52.098Z"
   },
   {
    "duration": 9,
    "start_time": "2022-11-11T18:33:49.802Z"
   },
   {
    "duration": 21,
    "start_time": "2022-11-11T18:43:18.859Z"
   },
   {
    "duration": 9,
    "start_time": "2022-11-11T18:43:43.158Z"
   },
   {
    "duration": 7,
    "start_time": "2022-11-11T18:43:45.995Z"
   },
   {
    "duration": 9,
    "start_time": "2022-11-11T18:43:55.158Z"
   },
   {
    "duration": 4,
    "start_time": "2022-11-11T18:45:39.370Z"
   },
   {
    "duration": 7,
    "start_time": "2022-11-11T18:45:53.894Z"
   },
   {
    "duration": 3,
    "start_time": "2022-11-11T18:46:38.069Z"
   },
   {
    "duration": 9,
    "start_time": "2022-11-11T19:02:18.289Z"
   },
   {
    "duration": 8,
    "start_time": "2022-11-11T19:02:21.751Z"
   },
   {
    "duration": 10,
    "start_time": "2022-11-11T19:02:40.935Z"
   },
   {
    "duration": 9,
    "start_time": "2022-11-11T19:12:33.925Z"
   },
   {
    "duration": 9,
    "start_time": "2022-11-12T00:00:38.758Z"
   },
   {
    "duration": 467,
    "start_time": "2022-11-12T15:22:47.413Z"
   },
   {
    "duration": 20,
    "start_time": "2022-11-12T15:22:47.882Z"
   },
   {
    "duration": 14,
    "start_time": "2022-11-12T15:22:47.903Z"
   },
   {
    "duration": 8,
    "start_time": "2022-11-12T15:22:47.919Z"
   },
   {
    "duration": 30,
    "start_time": "2022-11-12T15:22:47.930Z"
   },
   {
    "duration": 3,
    "start_time": "2022-11-12T15:22:47.977Z"
   },
   {
    "duration": 10,
    "start_time": "2022-11-12T15:22:47.982Z"
   },
   {
    "duration": 8,
    "start_time": "2022-11-12T15:22:47.993Z"
   },
   {
    "duration": 9,
    "start_time": "2022-11-12T15:22:48.003Z"
   },
   {
    "duration": 5,
    "start_time": "2022-11-12T15:22:48.013Z"
   },
   {
    "duration": 30,
    "start_time": "2022-11-12T15:22:48.019Z"
   },
   {
    "duration": 32,
    "start_time": "2022-11-12T15:22:48.051Z"
   },
   {
    "duration": 4,
    "start_time": "2022-11-12T15:22:48.085Z"
   },
   {
    "duration": 10,
    "start_time": "2022-11-12T15:22:48.093Z"
   },
   {
    "duration": 19,
    "start_time": "2022-11-12T15:22:48.105Z"
   },
   {
    "duration": 16,
    "start_time": "2022-11-12T15:22:48.126Z"
   },
   {
    "duration": 35,
    "start_time": "2022-11-12T15:22:48.143Z"
   },
   {
    "duration": 9,
    "start_time": "2022-11-12T15:22:48.180Z"
   },
   {
    "duration": 5,
    "start_time": "2022-11-12T15:22:48.191Z"
   },
   {
    "duration": 3,
    "start_time": "2022-11-12T15:22:48.197Z"
   },
   {
    "duration": 14,
    "start_time": "2022-11-12T15:22:48.201Z"
   },
   {
    "duration": 2,
    "start_time": "2022-11-12T15:22:48.216Z"
   },
   {
    "duration": 5,
    "start_time": "2022-11-12T15:22:48.220Z"
   },
   {
    "duration": 74,
    "start_time": "2022-11-12T15:22:48.227Z"
   },
   {
    "duration": 0,
    "start_time": "2022-11-12T15:22:48.303Z"
   },
   {
    "duration": 0,
    "start_time": "2022-11-12T15:22:48.304Z"
   },
   {
    "duration": 0,
    "start_time": "2022-11-12T15:22:48.305Z"
   },
   {
    "duration": 0,
    "start_time": "2022-11-12T15:22:48.306Z"
   },
   {
    "duration": 0,
    "start_time": "2022-11-12T15:22:48.307Z"
   },
   {
    "duration": 0,
    "start_time": "2022-11-12T15:22:48.308Z"
   },
   {
    "duration": 0,
    "start_time": "2022-11-12T15:22:48.309Z"
   },
   {
    "duration": 0,
    "start_time": "2022-11-12T15:22:48.310Z"
   },
   {
    "duration": 0,
    "start_time": "2022-11-12T15:22:48.311Z"
   },
   {
    "duration": 0,
    "start_time": "2022-11-12T15:22:48.312Z"
   },
   {
    "duration": 0,
    "start_time": "2022-11-12T15:22:48.313Z"
   },
   {
    "duration": 0,
    "start_time": "2022-11-12T15:22:48.314Z"
   },
   {
    "duration": 0,
    "start_time": "2022-11-12T15:22:48.315Z"
   },
   {
    "duration": 4,
    "start_time": "2022-11-12T15:23:09.206Z"
   },
   {
    "duration": 11,
    "start_time": "2022-11-12T15:23:09.212Z"
   },
   {
    "duration": 0,
    "start_time": "2022-11-12T15:23:09.225Z"
   },
   {
    "duration": 0,
    "start_time": "2022-11-12T15:23:09.226Z"
   },
   {
    "duration": 0,
    "start_time": "2022-11-12T15:23:09.227Z"
   },
   {
    "duration": 0,
    "start_time": "2022-11-12T15:23:09.228Z"
   },
   {
    "duration": 1,
    "start_time": "2022-11-12T15:23:09.228Z"
   },
   {
    "duration": 0,
    "start_time": "2022-11-12T15:23:09.229Z"
   },
   {
    "duration": 0,
    "start_time": "2022-11-12T15:23:09.230Z"
   },
   {
    "duration": 17,
    "start_time": "2022-11-12T15:23:09.232Z"
   },
   {
    "duration": 0,
    "start_time": "2022-11-12T15:23:09.251Z"
   },
   {
    "duration": 0,
    "start_time": "2022-11-12T15:23:09.252Z"
   },
   {
    "duration": 0,
    "start_time": "2022-11-12T15:23:09.252Z"
   },
   {
    "duration": 19,
    "start_time": "2022-11-12T15:23:30.669Z"
   },
   {
    "duration": 11,
    "start_time": "2022-11-12T15:23:31.549Z"
   },
   {
    "duration": 114,
    "start_time": "2022-11-12T15:23:34.564Z"
   },
   {
    "duration": 74,
    "start_time": "2022-11-12T15:23:38.157Z"
   },
   {
    "duration": 24,
    "start_time": "2022-11-12T15:23:43.218Z"
   },
   {
    "duration": 10,
    "start_time": "2022-11-12T15:23:43.845Z"
   },
   {
    "duration": 10,
    "start_time": "2022-11-12T15:23:50.124Z"
   },
   {
    "duration": 32,
    "start_time": "2022-11-12T15:23:56.425Z"
   },
   {
    "duration": 10,
    "start_time": "2022-11-12T15:23:57.046Z"
   },
   {
    "duration": 26,
    "start_time": "2022-11-12T15:24:01.822Z"
   },
   {
    "duration": 9,
    "start_time": "2022-11-12T15:24:02.415Z"
   },
   {
    "duration": 9,
    "start_time": "2022-11-12T15:24:06.911Z"
   },
   {
    "duration": 53,
    "start_time": "2022-11-12T16:30:25.503Z"
   },
   {
    "duration": 8,
    "start_time": "2022-11-12T16:32:35.400Z"
   },
   {
    "duration": 3,
    "start_time": "2022-11-12T16:32:41.091Z"
   },
   {
    "duration": 3,
    "start_time": "2022-11-12T16:32:41.485Z"
   },
   {
    "duration": 9,
    "start_time": "2022-11-12T16:32:41.875Z"
   },
   {
    "duration": 582,
    "start_time": "2022-11-12T16:32:53.467Z"
   },
   {
    "duration": 26,
    "start_time": "2022-11-12T16:32:54.257Z"
   },
   {
    "duration": 18,
    "start_time": "2022-11-12T16:32:54.996Z"
   },
   {
    "duration": 19,
    "start_time": "2022-11-12T16:32:56.528Z"
   },
   {
    "duration": 40,
    "start_time": "2022-11-12T16:32:57.284Z"
   },
   {
    "duration": 4,
    "start_time": "2022-11-12T16:32:58.397Z"
   },
   {
    "duration": 8,
    "start_time": "2022-11-12T16:32:59.114Z"
   },
   {
    "duration": 5,
    "start_time": "2022-11-12T16:33:00.294Z"
   },
   {
    "duration": 7,
    "start_time": "2022-11-12T16:33:01.029Z"
   },
   {
    "duration": 4,
    "start_time": "2022-11-12T16:33:01.813Z"
   },
   {
    "duration": 37,
    "start_time": "2022-11-12T16:33:02.990Z"
   },
   {
    "duration": 12,
    "start_time": "2022-11-12T16:33:03.919Z"
   },
   {
    "duration": 5,
    "start_time": "2022-11-12T16:33:05.062Z"
   },
   {
    "duration": 22,
    "start_time": "2022-11-12T16:33:06.266Z"
   },
   {
    "duration": 20,
    "start_time": "2022-11-12T16:33:07.752Z"
   },
   {
    "duration": 26,
    "start_time": "2022-11-12T16:33:08.273Z"
   },
   {
    "duration": 4,
    "start_time": "2022-11-12T16:33:09.501Z"
   },
   {
    "duration": 11,
    "start_time": "2022-11-12T16:33:09.963Z"
   },
   {
    "duration": 6,
    "start_time": "2022-11-12T16:33:10.766Z"
   },
   {
    "duration": 6,
    "start_time": "2022-11-12T16:33:11.675Z"
   },
   {
    "duration": 10,
    "start_time": "2022-11-12T16:33:12.098Z"
   },
   {
    "duration": 3,
    "start_time": "2022-11-12T16:33:13.765Z"
   },
   {
    "duration": 3,
    "start_time": "2022-11-12T16:33:14.167Z"
   },
   {
    "duration": 36,
    "start_time": "2022-11-12T16:33:14.636Z"
   },
   {
    "duration": 81,
    "start_time": "2022-11-12T16:48:45.246Z"
   },
   {
    "duration": 15,
    "start_time": "2022-11-12T16:48:49.051Z"
   },
   {
    "duration": 13,
    "start_time": "2022-11-12T16:49:12.828Z"
   },
   {
    "duration": 12,
    "start_time": "2022-11-12T16:49:52.551Z"
   },
   {
    "duration": 10,
    "start_time": "2022-11-12T16:57:28.811Z"
   },
   {
    "duration": 11,
    "start_time": "2022-11-12T17:27:10.248Z"
   },
   {
    "duration": 9,
    "start_time": "2022-11-12T17:27:19.222Z"
   },
   {
    "duration": 42,
    "start_time": "2022-11-12T17:28:40.790Z"
   },
   {
    "duration": 1239,
    "start_time": "2022-11-12T17:29:03.152Z"
   },
   {
    "duration": 9,
    "start_time": "2022-11-12T17:31:19.107Z"
   },
   {
    "duration": 13,
    "start_time": "2022-11-12T17:32:44.390Z"
   },
   {
    "duration": 14,
    "start_time": "2022-11-12T17:34:12.905Z"
   },
   {
    "duration": 13,
    "start_time": "2022-11-12T17:34:53.595Z"
   },
   {
    "duration": 3,
    "start_time": "2022-11-12T17:35:03.594Z"
   },
   {
    "duration": 3,
    "start_time": "2022-11-12T17:35:04.123Z"
   },
   {
    "duration": 13,
    "start_time": "2022-11-12T17:35:04.654Z"
   },
   {
    "duration": 18,
    "start_time": "2022-11-12T17:35:13.376Z"
   },
   {
    "duration": 13,
    "start_time": "2022-11-12T17:35:18.347Z"
   },
   {
    "duration": 11,
    "start_time": "2022-11-12T17:35:31.997Z"
   },
   {
    "duration": 22,
    "start_time": "2022-11-12T17:35:42.574Z"
   },
   {
    "duration": 74,
    "start_time": "2022-11-12T17:36:00.400Z"
   },
   {
    "duration": 16,
    "start_time": "2022-11-12T17:36:01.390Z"
   },
   {
    "duration": 20,
    "start_time": "2022-11-12T17:36:02.478Z"
   },
   {
    "duration": 11,
    "start_time": "2022-11-12T17:36:04.428Z"
   },
   {
    "duration": 35,
    "start_time": "2022-11-12T17:36:05.403Z"
   },
   {
    "duration": 4,
    "start_time": "2022-11-12T17:36:06.766Z"
   },
   {
    "duration": 8,
    "start_time": "2022-11-12T17:36:07.645Z"
   },
   {
    "duration": 5,
    "start_time": "2022-11-12T17:36:09.053Z"
   },
   {
    "duration": 5,
    "start_time": "2022-11-12T17:36:09.944Z"
   },
   {
    "duration": 5,
    "start_time": "2022-11-12T17:36:10.815Z"
   },
   {
    "duration": 37,
    "start_time": "2022-11-12T17:36:12.119Z"
   },
   {
    "duration": 12,
    "start_time": "2022-11-12T17:36:13.026Z"
   },
   {
    "duration": 4,
    "start_time": "2022-11-12T17:36:14.298Z"
   },
   {
    "duration": 11,
    "start_time": "2022-11-12T17:36:15.552Z"
   },
   {
    "duration": 20,
    "start_time": "2022-11-12T17:36:16.443Z"
   },
   {
    "duration": 19,
    "start_time": "2022-11-12T17:36:17.641Z"
   },
   {
    "duration": 4,
    "start_time": "2022-11-12T17:36:19.246Z"
   },
   {
    "duration": 10,
    "start_time": "2022-11-12T17:36:19.745Z"
   },
   {
    "duration": 6,
    "start_time": "2022-11-12T17:36:20.638Z"
   },
   {
    "duration": 3,
    "start_time": "2022-11-12T17:36:21.663Z"
   },
   {
    "duration": 10,
    "start_time": "2022-11-12T17:36:22.146Z"
   },
   {
    "duration": 3,
    "start_time": "2022-11-12T17:36:24.050Z"
   },
   {
    "duration": 2,
    "start_time": "2022-11-12T17:36:24.513Z"
   },
   {
    "duration": 14,
    "start_time": "2022-11-12T17:36:24.990Z"
   },
   {
    "duration": 8,
    "start_time": "2022-11-12T17:36:26.126Z"
   },
   {
    "duration": 10,
    "start_time": "2022-11-12T17:36:55.890Z"
   },
   {
    "duration": 11,
    "start_time": "2022-11-12T17:37:09.330Z"
   },
   {
    "duration": 8,
    "start_time": "2022-11-12T17:37:18.452Z"
   },
   {
    "duration": 9,
    "start_time": "2022-11-12T17:37:46.394Z"
   },
   {
    "duration": 8,
    "start_time": "2022-11-12T17:37:56.690Z"
   },
   {
    "duration": 72,
    "start_time": "2022-11-12T17:38:32.566Z"
   },
   {
    "duration": 19,
    "start_time": "2022-11-12T17:38:33.475Z"
   },
   {
    "duration": 15,
    "start_time": "2022-11-12T17:38:34.346Z"
   },
   {
    "duration": 12,
    "start_time": "2022-11-12T17:38:36.121Z"
   },
   {
    "duration": 46,
    "start_time": "2022-11-12T17:38:36.993Z"
   },
   {
    "duration": 4,
    "start_time": "2022-11-12T17:38:38.221Z"
   },
   {
    "duration": 7,
    "start_time": "2022-11-12T17:38:39.047Z"
   },
   {
    "duration": 4,
    "start_time": "2022-11-12T17:38:40.322Z"
   },
   {
    "duration": 6,
    "start_time": "2022-11-12T17:38:41.117Z"
   },
   {
    "duration": 6,
    "start_time": "2022-11-12T17:38:41.893Z"
   },
   {
    "duration": 51,
    "start_time": "2022-11-12T17:38:43.054Z"
   },
   {
    "duration": 12,
    "start_time": "2022-11-12T17:38:44.164Z"
   },
   {
    "duration": 4,
    "start_time": "2022-11-12T17:38:45.200Z"
   },
   {
    "duration": 11,
    "start_time": "2022-11-12T17:38:46.444Z"
   },
   {
    "duration": 32,
    "start_time": "2022-11-12T17:38:47.264Z"
   },
   {
    "duration": 21,
    "start_time": "2022-11-12T17:38:47.648Z"
   },
   {
    "duration": 3,
    "start_time": "2022-11-12T17:38:48.744Z"
   },
   {
    "duration": 22,
    "start_time": "2022-11-12T17:38:49.170Z"
   },
   {
    "duration": 6,
    "start_time": "2022-11-12T17:38:49.991Z"
   },
   {
    "duration": 3,
    "start_time": "2022-11-12T17:38:50.960Z"
   },
   {
    "duration": 9,
    "start_time": "2022-11-12T17:38:51.466Z"
   },
   {
    "duration": 2,
    "start_time": "2022-11-12T17:38:53.214Z"
   },
   {
    "duration": 3,
    "start_time": "2022-11-12T17:38:53.759Z"
   },
   {
    "duration": 13,
    "start_time": "2022-11-12T17:38:54.177Z"
   },
   {
    "duration": 9,
    "start_time": "2022-11-12T17:38:54.738Z"
   },
   {
    "duration": 23,
    "start_time": "2022-11-12T17:38:55.594Z"
   },
   {
    "duration": 8,
    "start_time": "2022-11-12T17:39:28.535Z"
   },
   {
    "duration": 8,
    "start_time": "2022-11-12T17:39:48.503Z"
   },
   {
    "duration": 11,
    "start_time": "2022-11-12T17:40:00.704Z"
   },
   {
    "duration": 11,
    "start_time": "2022-11-12T17:41:10.631Z"
   },
   {
    "duration": 80,
    "start_time": "2022-11-12T17:41:21.937Z"
   },
   {
    "duration": 11,
    "start_time": "2022-11-12T17:41:36.010Z"
   },
   {
    "duration": 4,
    "start_time": "2022-11-12T17:41:49.197Z"
   },
   {
    "duration": 9,
    "start_time": "2022-11-12T17:42:02.794Z"
   },
   {
    "duration": 3,
    "start_time": "2022-11-12T17:42:15.290Z"
   },
   {
    "duration": 15,
    "start_time": "2022-11-12T17:42:26.221Z"
   },
   {
    "duration": 11,
    "start_time": "2022-11-12T17:44:12.335Z"
   },
   {
    "duration": 14,
    "start_time": "2022-11-12T17:47:26.915Z"
   },
   {
    "duration": 15,
    "start_time": "2022-11-12T17:47:40.032Z"
   },
   {
    "duration": 15,
    "start_time": "2022-11-12T17:47:46.558Z"
   },
   {
    "duration": 14,
    "start_time": "2022-11-12T17:48:00.411Z"
   },
   {
    "duration": 12,
    "start_time": "2022-11-12T17:48:09.015Z"
   },
   {
    "duration": 15,
    "start_time": "2022-11-12T17:48:22.673Z"
   },
   {
    "duration": 12,
    "start_time": "2022-11-12T17:48:41.218Z"
   },
   {
    "duration": 11,
    "start_time": "2022-11-12T17:49:16.927Z"
   },
   {
    "duration": 13,
    "start_time": "2022-11-12T17:49:34.635Z"
   },
   {
    "duration": 33,
    "start_time": "2022-11-12T17:49:47.001Z"
   },
   {
    "duration": 10,
    "start_time": "2022-11-12T17:56:28.419Z"
   },
   {
    "duration": 16,
    "start_time": "2022-11-12T17:57:10.674Z"
   },
   {
    "duration": 14,
    "start_time": "2022-11-12T17:57:26.537Z"
   },
   {
    "duration": 69,
    "start_time": "2022-11-12T17:57:35.918Z"
   },
   {
    "duration": 20,
    "start_time": "2022-11-12T17:57:37.034Z"
   },
   {
    "duration": 15,
    "start_time": "2022-11-12T17:57:38.118Z"
   },
   {
    "duration": 10,
    "start_time": "2022-11-12T17:57:39.999Z"
   },
   {
    "duration": 35,
    "start_time": "2022-11-12T17:57:40.871Z"
   },
   {
    "duration": 4,
    "start_time": "2022-11-12T17:57:42.112Z"
   },
   {
    "duration": 10,
    "start_time": "2022-11-12T17:57:42.880Z"
   },
   {
    "duration": 6,
    "start_time": "2022-11-12T17:57:44.088Z"
   },
   {
    "duration": 5,
    "start_time": "2022-11-12T17:57:44.915Z"
   },
   {
    "duration": 5,
    "start_time": "2022-11-12T17:57:45.717Z"
   },
   {
    "duration": 35,
    "start_time": "2022-11-12T17:57:46.956Z"
   },
   {
    "duration": 11,
    "start_time": "2022-11-12T17:57:47.735Z"
   },
   {
    "duration": 4,
    "start_time": "2022-11-12T17:57:48.925Z"
   },
   {
    "duration": 11,
    "start_time": "2022-11-12T17:57:50.076Z"
   },
   {
    "duration": 19,
    "start_time": "2022-11-12T17:57:50.904Z"
   },
   {
    "duration": 19,
    "start_time": "2022-11-12T17:57:51.331Z"
   },
   {
    "duration": 3,
    "start_time": "2022-11-12T17:57:52.497Z"
   },
   {
    "duration": 11,
    "start_time": "2022-11-12T17:57:52.937Z"
   },
   {
    "duration": 6,
    "start_time": "2022-11-12T17:57:53.706Z"
   },
   {
    "duration": 4,
    "start_time": "2022-11-12T17:57:54.624Z"
   },
   {
    "duration": 10,
    "start_time": "2022-11-12T17:57:55.058Z"
   },
   {
    "duration": 3,
    "start_time": "2022-11-12T17:57:56.679Z"
   },
   {
    "duration": 3,
    "start_time": "2022-11-12T17:57:57.098Z"
   },
   {
    "duration": 15,
    "start_time": "2022-11-12T17:57:57.469Z"
   },
   {
    "duration": 36,
    "start_time": "2022-11-12T17:57:57.942Z"
   },
   {
    "duration": 16,
    "start_time": "2022-11-12T17:58:53.201Z"
   },
   {
    "duration": 15,
    "start_time": "2022-11-12T18:13:29.118Z"
   },
   {
    "duration": 16,
    "start_time": "2022-11-12T18:13:31.861Z"
   },
   {
    "duration": 16,
    "start_time": "2022-11-12T18:13:36.965Z"
   },
   {
    "duration": 16,
    "start_time": "2022-11-12T18:14:55.055Z"
   },
   {
    "duration": 17,
    "start_time": "2022-11-12T18:14:57.597Z"
   },
   {
    "duration": 16,
    "start_time": "2022-11-12T18:15:09.869Z"
   },
   {
    "duration": 16,
    "start_time": "2022-11-12T18:15:20.303Z"
   },
   {
    "duration": 2,
    "start_time": "2022-11-12T18:24:07.401Z"
   },
   {
    "duration": 69,
    "start_time": "2022-11-12T18:30:22.742Z"
   },
   {
    "duration": 5,
    "start_time": "2022-11-12T18:30:49.492Z"
   },
   {
    "duration": 5,
    "start_time": "2022-11-12T18:31:02.645Z"
   },
   {
    "duration": 34,
    "start_time": "2022-11-12T18:31:09.525Z"
   },
   {
    "duration": 15,
    "start_time": "2022-11-12T18:31:42.421Z"
   },
   {
    "duration": 62,
    "start_time": "2022-11-12T18:31:57.881Z"
   },
   {
    "duration": 54,
    "start_time": "2022-11-12T18:32:10.838Z"
   },
   {
    "duration": 49,
    "start_time": "2022-11-12T18:32:40.267Z"
   },
   {
    "duration": 11,
    "start_time": "2022-11-12T18:32:56.350Z"
   },
   {
    "duration": 21,
    "start_time": "2022-11-12T18:34:07.680Z"
   },
   {
    "duration": 21,
    "start_time": "2022-11-12T18:34:20.434Z"
   },
   {
    "duration": 12,
    "start_time": "2022-11-12T18:34:21.668Z"
   },
   {
    "duration": 10,
    "start_time": "2022-11-12T22:34:53.859Z"
   },
   {
    "duration": 20,
    "start_time": "2022-11-12T22:35:01.602Z"
   },
   {
    "duration": 13,
    "start_time": "2022-11-12T22:35:02.140Z"
   },
   {
    "duration": 14,
    "start_time": "2022-11-12T22:35:38.533Z"
   },
   {
    "duration": 20,
    "start_time": "2022-11-12T22:35:42.602Z"
   },
   {
    "duration": 14,
    "start_time": "2022-11-12T22:35:43.153Z"
   },
   {
    "duration": 10,
    "start_time": "2022-11-12T22:36:29.175Z"
   },
   {
    "duration": 31,
    "start_time": "2022-11-12T22:36:47.788Z"
   },
   {
    "duration": 11,
    "start_time": "2022-11-12T22:36:48.508Z"
   },
   {
    "duration": 25,
    "start_time": "2022-11-12T22:36:52.205Z"
   },
   {
    "duration": 9,
    "start_time": "2022-11-12T22:36:52.719Z"
   },
   {
    "duration": 26,
    "start_time": "2022-11-12T22:36:55.241Z"
   },
   {
    "duration": 9,
    "start_time": "2022-11-12T22:36:56.460Z"
   },
   {
    "duration": 9,
    "start_time": "2022-11-12T22:37:00.044Z"
   },
   {
    "duration": 32,
    "start_time": "2022-11-12T22:37:49.869Z"
   },
   {
    "duration": 31,
    "start_time": "2022-11-12T22:37:53.537Z"
   },
   {
    "duration": 25,
    "start_time": "2022-11-12T22:38:59.865Z"
   },
   {
    "duration": 10,
    "start_time": "2022-11-12T22:39:00.514Z"
   },
   {
    "duration": 32,
    "start_time": "2022-11-12T22:39:09.534Z"
   },
   {
    "duration": 31,
    "start_time": "2022-11-12T22:41:01.392Z"
   },
   {
    "duration": 33,
    "start_time": "2022-11-12T22:41:05.255Z"
   },
   {
    "duration": 21,
    "start_time": "2022-11-12T22:42:14.418Z"
   },
   {
    "duration": 11,
    "start_time": "2022-11-12T22:42:15.010Z"
   },
   {
    "duration": 30,
    "start_time": "2022-11-12T22:43:33.845Z"
   },
   {
    "duration": 14,
    "start_time": "2022-11-12T22:44:10.862Z"
   },
   {
    "duration": 15,
    "start_time": "2022-11-12T22:44:56.003Z"
   },
   {
    "duration": 33,
    "start_time": "2022-11-12T22:45:18.887Z"
   },
   {
    "duration": 45,
    "start_time": "2022-11-12T22:45:24.513Z"
   },
   {
    "duration": 32,
    "start_time": "2022-11-12T22:46:26.078Z"
   },
   {
    "duration": 34,
    "start_time": "2022-11-12T22:46:32.780Z"
   },
   {
    "duration": 17,
    "start_time": "2022-11-12T22:55:33.008Z"
   },
   {
    "duration": 37,
    "start_time": "2022-11-12T22:55:33.746Z"
   },
   {
    "duration": 20,
    "start_time": "2022-11-12T22:57:04.242Z"
   },
   {
    "duration": 11,
    "start_time": "2022-11-12T22:57:04.929Z"
   },
   {
    "duration": 31,
    "start_time": "2022-11-12T22:57:15.360Z"
   },
   {
    "duration": 34,
    "start_time": "2022-11-12T22:57:58.033Z"
   },
   {
    "duration": 10,
    "start_time": "2022-11-12T22:58:03.864Z"
   },
   {
    "duration": 31,
    "start_time": "2022-11-12T22:58:04.726Z"
   },
   {
    "duration": 23,
    "start_time": "2022-11-12T23:01:46.088Z"
   },
   {
    "duration": 10,
    "start_time": "2022-11-12T23:01:47.044Z"
   },
   {
    "duration": 33,
    "start_time": "2022-11-12T23:01:57.363Z"
   },
   {
    "duration": 37,
    "start_time": "2022-11-12T23:02:16.488Z"
   },
   {
    "duration": 31,
    "start_time": "2022-11-12T23:02:32.157Z"
   },
   {
    "duration": 26,
    "start_time": "2022-11-12T23:02:58.443Z"
   },
   {
    "duration": 26,
    "start_time": "2022-11-12T23:03:08.943Z"
   },
   {
    "duration": 11,
    "start_time": "2022-11-12T23:03:09.652Z"
   },
   {
    "duration": 26,
    "start_time": "2022-11-12T23:03:13.824Z"
   },
   {
    "duration": 10,
    "start_time": "2022-11-12T23:03:14.459Z"
   },
   {
    "duration": 71,
    "start_time": "2022-11-12T23:03:35.683Z"
   },
   {
    "duration": 15,
    "start_time": "2022-11-12T23:03:36.647Z"
   },
   {
    "duration": 17,
    "start_time": "2022-11-12T23:03:37.615Z"
   },
   {
    "duration": 11,
    "start_time": "2022-11-12T23:03:39.492Z"
   },
   {
    "duration": 51,
    "start_time": "2022-11-12T23:03:40.422Z"
   },
   {
    "duration": 3,
    "start_time": "2022-11-12T23:03:41.751Z"
   },
   {
    "duration": 9,
    "start_time": "2022-11-12T23:03:42.683Z"
   },
   {
    "duration": 7,
    "start_time": "2022-11-12T23:03:44.031Z"
   },
   {
    "duration": 6,
    "start_time": "2022-11-12T23:03:44.876Z"
   },
   {
    "duration": 5,
    "start_time": "2022-11-12T23:03:45.662Z"
   },
   {
    "duration": 35,
    "start_time": "2022-11-12T23:03:46.879Z"
   },
   {
    "duration": 11,
    "start_time": "2022-11-12T23:03:47.694Z"
   },
   {
    "duration": 5,
    "start_time": "2022-11-12T23:03:49.027Z"
   },
   {
    "duration": 19,
    "start_time": "2022-11-12T23:03:50.295Z"
   },
   {
    "duration": 20,
    "start_time": "2022-11-12T23:03:51.114Z"
   },
   {
    "duration": 19,
    "start_time": "2022-11-12T23:03:51.536Z"
   },
   {
    "duration": 5,
    "start_time": "2022-11-12T23:03:52.801Z"
   },
   {
    "duration": 14,
    "start_time": "2022-11-12T23:03:53.278Z"
   },
   {
    "duration": 9,
    "start_time": "2022-11-12T23:03:54.132Z"
   },
   {
    "duration": 4,
    "start_time": "2022-11-12T23:03:55.016Z"
   },
   {
    "duration": 14,
    "start_time": "2022-11-12T23:03:55.495Z"
   },
   {
    "duration": 4,
    "start_time": "2022-11-12T23:03:57.311Z"
   },
   {
    "duration": 37,
    "start_time": "2022-11-12T23:03:57.831Z"
   },
   {
    "duration": 9,
    "start_time": "2022-11-12T23:03:58.402Z"
   },
   {
    "duration": 26,
    "start_time": "2022-11-12T23:04:07.637Z"
   },
   {
    "duration": 16,
    "start_time": "2022-11-12T23:04:14.022Z"
   },
   {
    "duration": 39,
    "start_time": "2022-11-12T23:04:14.937Z"
   },
   {
    "duration": 33,
    "start_time": "2022-11-12T23:04:19.860Z"
   },
   {
    "duration": 28,
    "start_time": "2022-11-12T23:04:54.205Z"
   },
   {
    "duration": 32,
    "start_time": "2022-11-12T23:05:39.833Z"
   },
   {
    "duration": 28,
    "start_time": "2022-11-12T23:05:57.378Z"
   },
   {
    "duration": 26,
    "start_time": "2022-11-12T23:07:36.567Z"
   },
   {
    "duration": 10,
    "start_time": "2022-11-12T23:07:37.189Z"
   },
   {
    "duration": 26,
    "start_time": "2022-11-12T23:11:50.173Z"
   },
   {
    "duration": 26,
    "start_time": "2022-11-12T23:11:57.873Z"
   },
   {
    "duration": 9,
    "start_time": "2022-11-12T23:11:58.367Z"
   },
   {
    "duration": 31,
    "start_time": "2022-11-12T23:12:56.406Z"
   },
   {
    "duration": 38,
    "start_time": "2022-11-12T23:13:24.759Z"
   },
   {
    "duration": 26,
    "start_time": "2022-11-12T23:14:02.632Z"
   },
   {
    "duration": 10,
    "start_time": "2022-11-12T23:14:03.239Z"
   },
   {
    "duration": 35,
    "start_time": "2022-11-12T23:14:08.776Z"
   },
   {
    "duration": 49,
    "start_time": "2022-11-12T23:14:13.131Z"
   },
   {
    "duration": 35,
    "start_time": "2022-11-12T23:14:33.786Z"
   },
   {
    "duration": 9,
    "start_time": "2022-11-12T23:20:47.429Z"
   },
   {
    "duration": 25,
    "start_time": "2022-11-12T23:23:07.942Z"
   },
   {
    "duration": 23,
    "start_time": "2022-11-12T23:23:32.969Z"
   },
   {
    "duration": 28,
    "start_time": "2022-11-12T23:23:56.418Z"
   },
   {
    "duration": 31,
    "start_time": "2022-11-12T23:24:26.898Z"
   },
   {
    "duration": 33,
    "start_time": "2022-11-12T23:24:30.018Z"
   },
   {
    "duration": 33,
    "start_time": "2022-11-12T23:24:31.873Z"
   },
   {
    "duration": 32,
    "start_time": "2022-11-12T23:24:33.830Z"
   },
   {
    "duration": 32,
    "start_time": "2022-11-12T23:24:36.048Z"
   },
   {
    "duration": 768,
    "start_time": "2022-11-13T07:18:58.118Z"
   },
   {
    "duration": 21,
    "start_time": "2022-11-13T07:18:59.136Z"
   },
   {
    "duration": 17,
    "start_time": "2022-11-13T07:19:00.090Z"
   },
   {
    "duration": 10,
    "start_time": "2022-11-13T07:19:01.839Z"
   },
   {
    "duration": 35,
    "start_time": "2022-11-13T07:19:02.750Z"
   },
   {
    "duration": 5,
    "start_time": "2022-11-13T07:19:04.076Z"
   },
   {
    "duration": 7,
    "start_time": "2022-11-13T07:19:04.975Z"
   },
   {
    "duration": 4,
    "start_time": "2022-11-13T07:19:06.278Z"
   },
   {
    "duration": 7,
    "start_time": "2022-11-13T07:19:07.094Z"
   },
   {
    "duration": 5,
    "start_time": "2022-11-13T07:19:07.942Z"
   },
   {
    "duration": 48,
    "start_time": "2022-11-13T07:19:09.276Z"
   },
   {
    "duration": 10,
    "start_time": "2022-11-13T07:19:10.088Z"
   },
   {
    "duration": 4,
    "start_time": "2022-11-13T07:19:11.319Z"
   },
   {
    "duration": 12,
    "start_time": "2022-11-13T07:19:12.627Z"
   },
   {
    "duration": 21,
    "start_time": "2022-11-13T07:19:13.360Z"
   },
   {
    "duration": 17,
    "start_time": "2022-11-13T07:19:13.709Z"
   },
   {
    "duration": 4,
    "start_time": "2022-11-13T07:19:14.922Z"
   },
   {
    "duration": 11,
    "start_time": "2022-11-13T07:19:15.331Z"
   },
   {
    "duration": 6,
    "start_time": "2022-11-13T07:19:16.190Z"
   },
   {
    "duration": 3,
    "start_time": "2022-11-13T07:19:17.050Z"
   },
   {
    "duration": 8,
    "start_time": "2022-11-13T07:19:17.494Z"
   },
   {
    "duration": 2,
    "start_time": "2022-11-13T07:19:19.203Z"
   },
   {
    "duration": 23,
    "start_time": "2022-11-13T07:19:19.626Z"
   },
   {
    "duration": 62,
    "start_time": "2022-11-13T07:19:20.117Z"
   },
   {
    "duration": 3,
    "start_time": "2022-11-13T07:19:50.691Z"
   },
   {
    "duration": 8,
    "start_time": "2022-11-13T07:19:55.489Z"
   },
   {
    "duration": 26,
    "start_time": "2022-11-13T07:20:08.229Z"
   },
   {
    "duration": 46,
    "start_time": "2022-11-13T07:20:48.772Z"
   },
   {
    "duration": 14,
    "start_time": "2022-11-13T07:20:53.880Z"
   },
   {
    "duration": 8,
    "start_time": "2022-11-13T07:21:25.149Z"
   },
   {
    "duration": 32,
    "start_time": "2022-11-13T07:21:31.476Z"
   },
   {
    "duration": 3,
    "start_time": "2022-11-13T07:21:51.235Z"
   },
   {
    "duration": 8,
    "start_time": "2022-11-13T07:21:56.082Z"
   },
   {
    "duration": 3,
    "start_time": "2022-11-13T07:22:10.922Z"
   },
   {
    "duration": 8,
    "start_time": "2022-11-13T07:22:11.673Z"
   },
   {
    "duration": 3,
    "start_time": "2022-11-13T07:22:19.903Z"
   },
   {
    "duration": 10,
    "start_time": "2022-11-13T07:22:22.945Z"
   },
   {
    "duration": 28,
    "start_time": "2022-11-13T07:23:11.541Z"
   },
   {
    "duration": 3,
    "start_time": "2022-11-13T07:24:50.038Z"
   },
   {
    "duration": 22,
    "start_time": "2022-11-13T07:24:50.683Z"
   },
   {
    "duration": 8,
    "start_time": "2022-11-13T07:25:16.536Z"
   },
   {
    "duration": 17,
    "start_time": "2022-11-13T07:25:30.371Z"
   },
   {
    "duration": 25,
    "start_time": "2022-11-13T07:25:49.337Z"
   },
   {
    "duration": 9,
    "start_time": "2022-11-13T07:26:35.714Z"
   },
   {
    "duration": 4,
    "start_time": "2022-11-13T07:27:03.269Z"
   },
   {
    "duration": 26,
    "start_time": "2022-11-13T07:27:11.794Z"
   },
   {
    "duration": 10,
    "start_time": "2022-11-13T07:27:12.693Z"
   },
   {
    "duration": 17,
    "start_time": "2022-11-13T07:27:20.768Z"
   },
   {
    "duration": 15,
    "start_time": "2022-11-13T07:27:21.401Z"
   },
   {
    "duration": 28,
    "start_time": "2022-11-13T07:27:37.830Z"
   },
   {
    "duration": 20,
    "start_time": "2022-11-13T07:28:05.322Z"
   },
   {
    "duration": 37,
    "start_time": "2022-11-13T07:28:17.101Z"
   },
   {
    "duration": 26,
    "start_time": "2022-11-13T07:28:35.228Z"
   },
   {
    "duration": 11,
    "start_time": "2022-11-13T07:28:36.471Z"
   },
   {
    "duration": 27,
    "start_time": "2022-11-13T07:28:40.724Z"
   },
   {
    "duration": 46,
    "start_time": "2022-11-13T07:30:34.035Z"
   },
   {
    "duration": 9,
    "start_time": "2022-11-13T07:30:38.145Z"
   },
   {
    "duration": 24,
    "start_time": "2022-11-13T07:30:48.399Z"
   },
   {
    "duration": 46,
    "start_time": "2022-11-13T07:31:18.398Z"
   },
   {
    "duration": 3,
    "start_time": "2022-11-13T07:31:28.341Z"
   },
   {
    "duration": 25,
    "start_time": "2022-11-13T07:31:42.972Z"
   },
   {
    "duration": 21,
    "start_time": "2022-11-13T07:32:03.897Z"
   },
   {
    "duration": 30,
    "start_time": "2022-11-13T07:32:08.823Z"
   },
   {
    "duration": 4,
    "start_time": "2022-11-13T07:32:22.314Z"
   },
   {
    "duration": 27,
    "start_time": "2022-11-13T07:32:23.651Z"
   },
   {
    "duration": 30,
    "start_time": "2022-11-13T07:34:06.884Z"
   },
   {
    "duration": 23,
    "start_time": "2022-11-13T07:34:11.001Z"
   },
   {
    "duration": 3,
    "start_time": "2022-11-13T07:34:13.519Z"
   },
   {
    "duration": 25,
    "start_time": "2022-11-13T07:34:14.254Z"
   },
   {
    "duration": 13,
    "start_time": "2022-11-13T07:34:23.526Z"
   },
   {
    "duration": 32,
    "start_time": "2022-11-13T07:34:29.252Z"
   },
   {
    "duration": 26,
    "start_time": "2022-11-13T07:34:42.862Z"
   },
   {
    "duration": 25,
    "start_time": "2022-11-13T07:35:37.209Z"
   },
   {
    "duration": 25,
    "start_time": "2022-11-13T07:37:11.339Z"
   },
   {
    "duration": 28,
    "start_time": "2022-11-13T07:37:16.831Z"
   },
   {
    "duration": 23,
    "start_time": "2022-11-13T07:40:37.536Z"
   },
   {
    "duration": 13,
    "start_time": "2022-11-13T07:41:09.653Z"
   },
   {
    "duration": 10,
    "start_time": "2022-11-13T07:41:45.654Z"
   },
   {
    "duration": 31,
    "start_time": "2022-11-13T07:41:46.488Z"
   },
   {
    "duration": 11,
    "start_time": "2022-11-13T07:41:53.121Z"
   },
   {
    "duration": 26,
    "start_time": "2022-11-13T07:41:53.909Z"
   },
   {
    "duration": 27,
    "start_time": "2022-11-13T07:42:17.179Z"
   },
   {
    "duration": 702,
    "start_time": "2022-11-13T09:58:09.367Z"
   },
   {
    "duration": 23,
    "start_time": "2022-11-13T09:58:10.071Z"
   },
   {
    "duration": 15,
    "start_time": "2022-11-13T09:58:10.095Z"
   },
   {
    "duration": 10,
    "start_time": "2022-11-13T09:58:10.112Z"
   },
   {
    "duration": 62,
    "start_time": "2022-11-13T09:58:10.124Z"
   },
   {
    "duration": 3,
    "start_time": "2022-11-13T09:58:10.188Z"
   },
   {
    "duration": 11,
    "start_time": "2022-11-13T09:58:10.192Z"
   },
   {
    "duration": 4,
    "start_time": "2022-11-13T09:58:10.204Z"
   },
   {
    "duration": 11,
    "start_time": "2022-11-13T09:58:10.209Z"
   },
   {
    "duration": 4,
    "start_time": "2022-11-13T09:58:10.222Z"
   },
   {
    "duration": 47,
    "start_time": "2022-11-13T09:58:10.227Z"
   },
   {
    "duration": 9,
    "start_time": "2022-11-13T09:58:10.276Z"
   },
   {
    "duration": 8,
    "start_time": "2022-11-13T09:58:10.287Z"
   },
   {
    "duration": 15,
    "start_time": "2022-11-13T09:58:10.297Z"
   },
   {
    "duration": 20,
    "start_time": "2022-11-13T09:58:10.314Z"
   },
   {
    "duration": 37,
    "start_time": "2022-11-13T09:58:10.336Z"
   },
   {
    "duration": 3,
    "start_time": "2022-11-13T09:58:10.375Z"
   },
   {
    "duration": 12,
    "start_time": "2022-11-13T09:58:10.380Z"
   },
   {
    "duration": 5,
    "start_time": "2022-11-13T09:58:10.393Z"
   },
   {
    "duration": 4,
    "start_time": "2022-11-13T09:58:10.399Z"
   },
   {
    "duration": 18,
    "start_time": "2022-11-13T09:58:10.404Z"
   },
   {
    "duration": 3,
    "start_time": "2022-11-13T09:58:10.423Z"
   },
   {
    "duration": 7,
    "start_time": "2022-11-13T09:58:10.428Z"
   },
   {
    "duration": 166,
    "start_time": "2022-11-13T09:58:10.436Z"
   },
   {
    "duration": 0,
    "start_time": "2022-11-13T09:58:10.603Z"
   },
   {
    "duration": 0,
    "start_time": "2022-11-13T09:58:10.604Z"
   },
   {
    "duration": 0,
    "start_time": "2022-11-13T09:58:10.606Z"
   },
   {
    "duration": 0,
    "start_time": "2022-11-13T09:58:10.608Z"
   },
   {
    "duration": 22,
    "start_time": "2022-11-13T09:58:51.499Z"
   },
   {
    "duration": 20,
    "start_time": "2022-11-13T09:59:05.463Z"
   },
   {
    "duration": 30,
    "start_time": "2022-11-13T09:59:13.673Z"
   },
   {
    "duration": 454,
    "start_time": "2022-11-13T09:59:31.290Z"
   },
   {
    "duration": 22,
    "start_time": "2022-11-13T09:59:31.746Z"
   },
   {
    "duration": 17,
    "start_time": "2022-11-13T09:59:31.769Z"
   },
   {
    "duration": 10,
    "start_time": "2022-11-13T09:59:31.787Z"
   },
   {
    "duration": 33,
    "start_time": "2022-11-13T09:59:31.798Z"
   },
   {
    "duration": 3,
    "start_time": "2022-11-13T09:59:31.832Z"
   },
   {
    "duration": 32,
    "start_time": "2022-11-13T09:59:31.837Z"
   },
   {
    "duration": 4,
    "start_time": "2022-11-13T09:59:31.870Z"
   },
   {
    "duration": 9,
    "start_time": "2022-11-13T09:59:31.876Z"
   },
   {
    "duration": 4,
    "start_time": "2022-11-13T09:59:31.889Z"
   },
   {
    "duration": 39,
    "start_time": "2022-11-13T09:59:31.894Z"
   },
   {
    "duration": 9,
    "start_time": "2022-11-13T09:59:31.935Z"
   },
   {
    "duration": 4,
    "start_time": "2022-11-13T09:59:31.968Z"
   },
   {
    "duration": 12,
    "start_time": "2022-11-13T09:59:31.973Z"
   },
   {
    "duration": 27,
    "start_time": "2022-11-13T09:59:31.987Z"
   },
   {
    "duration": 16,
    "start_time": "2022-11-13T09:59:32.016Z"
   },
   {
    "duration": 4,
    "start_time": "2022-11-13T09:59:32.034Z"
   },
   {
    "duration": 30,
    "start_time": "2022-11-13T09:59:32.039Z"
   },
   {
    "duration": 5,
    "start_time": "2022-11-13T09:59:32.071Z"
   },
   {
    "duration": 6,
    "start_time": "2022-11-13T09:59:32.078Z"
   },
   {
    "duration": 24,
    "start_time": "2022-11-13T09:59:32.086Z"
   },
   {
    "duration": 6,
    "start_time": "2022-11-13T09:59:32.112Z"
   },
   {
    "duration": 19,
    "start_time": "2022-11-13T09:59:32.119Z"
   },
   {
    "duration": 50,
    "start_time": "2022-11-13T09:59:32.139Z"
   },
   {
    "duration": 27,
    "start_time": "2022-11-13T09:59:32.190Z"
   },
   {
    "duration": 10,
    "start_time": "2022-11-13T09:59:32.218Z"
   },
   {
    "duration": 101,
    "start_time": "2022-11-13T09:59:32.229Z"
   },
   {
    "duration": 0,
    "start_time": "2022-11-13T09:59:32.331Z"
   },
   {
    "duration": 33,
    "start_time": "2022-11-13T09:59:55.537Z"
   },
   {
    "duration": 31,
    "start_time": "2022-11-13T10:00:03.654Z"
   },
   {
    "duration": 28,
    "start_time": "2022-11-13T10:00:10.996Z"
   },
   {
    "duration": 459,
    "start_time": "2022-11-13T10:00:38.976Z"
   },
   {
    "duration": 24,
    "start_time": "2022-11-13T10:00:39.437Z"
   },
   {
    "duration": 15,
    "start_time": "2022-11-13T10:00:39.462Z"
   },
   {
    "duration": 11,
    "start_time": "2022-11-13T10:00:39.479Z"
   },
   {
    "duration": 33,
    "start_time": "2022-11-13T10:00:39.491Z"
   },
   {
    "duration": 4,
    "start_time": "2022-11-13T10:00:39.525Z"
   },
   {
    "duration": 15,
    "start_time": "2022-11-13T10:00:39.530Z"
   },
   {
    "duration": 23,
    "start_time": "2022-11-13T10:00:39.546Z"
   },
   {
    "duration": 7,
    "start_time": "2022-11-13T10:00:39.570Z"
   },
   {
    "duration": 5,
    "start_time": "2022-11-13T10:00:39.580Z"
   },
   {
    "duration": 43,
    "start_time": "2022-11-13T10:00:39.586Z"
   },
   {
    "duration": 9,
    "start_time": "2022-11-13T10:00:39.630Z"
   },
   {
    "duration": 27,
    "start_time": "2022-11-13T10:00:39.641Z"
   },
   {
    "duration": 15,
    "start_time": "2022-11-13T10:00:39.670Z"
   },
   {
    "duration": 26,
    "start_time": "2022-11-13T10:00:39.687Z"
   },
   {
    "duration": 25,
    "start_time": "2022-11-13T10:00:39.715Z"
   },
   {
    "duration": 4,
    "start_time": "2022-11-13T10:00:39.742Z"
   },
   {
    "duration": 33,
    "start_time": "2022-11-13T10:00:39.748Z"
   },
   {
    "duration": 15,
    "start_time": "2022-11-13T10:00:39.783Z"
   },
   {
    "duration": 10,
    "start_time": "2022-11-13T10:00:39.800Z"
   },
   {
    "duration": 13,
    "start_time": "2022-11-13T10:00:39.811Z"
   },
   {
    "duration": 2,
    "start_time": "2022-11-13T10:00:39.826Z"
   },
   {
    "duration": 5,
    "start_time": "2022-11-13T10:00:39.830Z"
   },
   {
    "duration": 44,
    "start_time": "2022-11-13T10:00:39.837Z"
   },
   {
    "duration": 28,
    "start_time": "2022-11-13T10:00:39.883Z"
   },
   {
    "duration": 11,
    "start_time": "2022-11-13T10:00:39.913Z"
   },
   {
    "duration": 62,
    "start_time": "2022-11-13T10:00:39.925Z"
   },
   {
    "duration": 29,
    "start_time": "2022-11-13T10:00:39.991Z"
   }
  ],
  "colab": {
   "name": "dpp_template_part2.ipynb",
   "provenance": []
  },
  "kernelspec": {
   "display_name": "Python 3 (ipykernel)",
   "language": "python",
   "name": "python3"
  },
  "language_info": {
   "codemirror_mode": {
    "name": "ipython",
    "version": 3
   },
   "file_extension": ".py",
   "mimetype": "text/x-python",
   "name": "python",
   "nbconvert_exporter": "python",
   "pygments_lexer": "ipython3",
   "version": "3.9.5"
  },
  "toc": {
   "base_numbering": 1,
   "nav_menu": {},
   "number_sections": true,
   "sideBar": true,
   "skip_h1_title": true,
   "title_cell": "Table of Contents",
   "title_sidebar": "Contents",
   "toc_cell": false,
   "toc_position": {},
   "toc_section_display": true,
   "toc_window_display": false
  }
 },
 "nbformat": 4,
 "nbformat_minor": 5
}
